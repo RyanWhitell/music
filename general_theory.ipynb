{
 "cells": [
  {
   "cell_type": "markdown",
   "id": "1d8ec5f7-54f2-4873-8687-4b0467bba656",
   "metadata": {},
   "source": [
    "# General Theory"
   ]
  },
  {
   "cell_type": "code",
   "execution_count": 1,
   "id": "8843329c-8528-4b71-8d48-8c4bb8478d0d",
   "metadata": {},
   "outputs": [],
   "source": [
    "from helpers import pprint_notes_common\n",
    "from bmtithlop import chromatic\n",
    "import abjad\n",
    "\n",
    "%load_ext abjadext.ipython"
   ]
  },
  {
   "cell_type": "markdown",
   "id": "77a39645-24de-458d-9d7a-46b4efd7af86",
   "metadata": {},
   "source": [
    "## Notes\n",
    "### The Musical Alphabet\n",
    "**Notes** are the letter names given to certain frequencies of sound. There are ``7`` natural notes (the white keys on a piano) for which all Western music is derived:"
   ]
  },
  {
   "cell_type": "code",
   "execution_count": 6,
   "id": "ee25cb01-1dae-4ee8-85c4-c7634e9a2f99",
   "metadata": {},
   "outputs": [],
   "source": [
    "alphabet = [\n",
    "    'A',\n",
    "    'B',\n",
    "    'C',\n",
    "    'D',\n",
    "    'E',\n",
    "    'F',\n",
    "    'G'\n",
    "]"
   ]
  },
  {
   "cell_type": "markdown",
   "id": "6786d833-3661-4457-a99c-92291853a787",
   "metadata": {},
   "source": [
    "### Sharps and Flats\n",
    "In between the alphabetical notes are sharps and flats (the black keys on a piano):"
   ]
  },
  {
   "cell_type": "code",
   "execution_count": 7,
   "id": "f64c77b1-ba80-4491-bf6f-0f59d3aa2b6d",
   "metadata": {},
   "outputs": [],
   "source": [
    "notes_basic = [\n",
    "    ['A'],\n",
    "    ['A#', 'Bb'],\n",
    "    ['B'],\n",
    "    ['C'],\n",
    "    ['C#', 'Db'],\n",
    "    ['D'],\n",
    "    ['D#', 'Eb'],\n",
    "    ['E'],\n",
    "    ['F'],\n",
    "    ['F#', 'Gb'],\n",
    "    ['G'],\n",
    "    ['G#', 'Ab'],\n",
    "]"
   ]
  },
  {
   "cell_type": "markdown",
   "id": "cb39b3d5-d44b-415c-9c53-51fd54768582",
   "metadata": {},
   "source": [
    "### Enharmonic Equivalents\n",
    "Because sharps and flats are just representations of a pitch \"higher\" or \"lower\" than an alphabetical note, the same note can be represented or \"spelled\" with either a sharp or a flat. These notes are said to have **enharmonic equivalents**. Later, it will be shown that _double sharps_ and _double flats_ are needed to represent _all_ musical elements in a way that makes the most sense. Therefore, all the notes used an their enharmonic equivalents are as follows: "
   ]
  },
  {
   "cell_type": "code",
   "execution_count": 8,
   "id": "9dd474c2-685c-4692-9e5d-b7a376a3cb4c",
   "metadata": {},
   "outputs": [],
   "source": [
    "notes = [\n",
    "    ['B#',  'C',  'Dbb'],\n",
    "    ['B##', 'C#', 'Db'],\n",
    "    ['C##', 'D',  'Ebb'],\n",
    "    ['D#',  'Eb', 'Fbb'],\n",
    "    ['D##', 'E',  'Fb'],\n",
    "    ['E#',  'F',  'Gbb'],\n",
    "    ['E##', 'F#', 'Gb'],\n",
    "    ['F##', 'G',  'Abb'],\n",
    "    ['G#',  'Ab'],\n",
    "    ['G##', 'A',  'Bbb'],\n",
    "    ['A#',  'Bb', 'Cbb'],\n",
    "    ['A##', 'B',  'Cb'],\n",
    "]"
   ]
  },
  {
   "cell_type": "markdown",
   "id": "0d2e590c-3538-4877-8888-d1691219c060",
   "metadata": {},
   "source": [
    "### Intervals\n",
    "The intervals between notes have names. A step above or below is a **half step** or **semitone**, two of these make a **whole step** or **tone**:"
   ]
  },
  {
   "cell_type": "code",
   "execution_count": 9,
   "id": "381ac634-f7be-4eaf-a141-0ba00aea0e47",
   "metadata": {},
   "outputs": [
    {
     "name": "stdout",
     "output_type": "stream",
     "text": [
      "A semitone above D is D♯\n",
      "A half step below D is C♯\n",
      "A tone above D is E\n",
      "A whole step below D is C\n"
     ]
    }
   ],
   "source": [
    "print(f'A semitone above {pprint_notes_common(notes[2])} is {pprint_notes_common(notes[2+1])}')\n",
    "print(f'A half step below {pprint_notes_common(notes[2])} is {pprint_notes_common(notes[2-1])}')\n",
    "print(f'A tone above {pprint_notes_common(notes[2])} is {pprint_notes_common(notes[2+2])}')\n",
    "print(f'A whole step below {pprint_notes_common(notes[2])} is {pprint_notes_common(notes[2-2])}')"
   ]
  },
  {
   "cell_type": "markdown",
   "id": "00d3e354-794f-4dc3-a56c-a0c021872882",
   "metadata": {},
   "source": [
    "### Octaves\n",
    "Doubling or halving the frequency of a note produces the same note at a different pitch, this is called an **octave**."
   ]
  },
  {
   "cell_type": "markdown",
   "id": "5e8c7dff-ef3f-4c4b-a30f-35a60e4c7cc8",
   "metadata": {},
   "source": [
    "## Scales\n",
    "Scales are a pattern of intervals, with a couple of important points:\n",
    "* Most or all of the melody and harmony of a musical work is built using the notes of a single scale.\n",
    "* Scales can be conveniently represented on a staff with a standard **key signature**.\n",
    "* Due to the principle of octave equivalence, scales are generally considered to span a single octave, with higher or lower octaves simply repeating the pattern.\n",
    "* A measure of the width of each scale step provides a method to classify scales.\n",
    "* Based on their interval patterns, scales are put into categories including **diatonic**, **chromatic**, **major**, **minor**, and others.\n",
    "* A specific scale is defined by its characteristic interval pattern and by a special note, known as its **first degree**, **root note**, or **tonic**.\n",
    "* The tonic of a scale is the note selected as the beginning of the octave, and therefore as the beginning of the adopted interval pattern."
   ]
  },
  {
   "cell_type": "markdown",
   "id": "7e75e167-9c80-415f-8266-f09ea684ab77",
   "metadata": {},
   "source": [
    "### The Chromatic Scale\n",
    "In Western music, every octave contains `12` notes. These notes make up the **chromatic scale**, which is all the semitones between an octave of a given root note. The chromatic scale in any key is the 12 semitones from the root note to it's octave:"
   ]
  },
  {
   "cell_type": "code",
   "execution_count": 14,
   "id": "b7bdfd61-a97f-417e-a1c6-7cb1491d96d3",
   "metadata": {},
   "outputs": [
    {
     "data": {
      "text/plain": [
       "[['B#', 'C', 'Dbb'],\n",
       " ['B##', 'C#', 'Db'],\n",
       " ['C##', 'D', 'Ebb'],\n",
       " ['D#', 'Eb', 'Fbb'],\n",
       " ['D##', 'E', 'Fb'],\n",
       " ['E#', 'F', 'Gbb'],\n",
       " ['E##', 'F#', 'Gb'],\n",
       " ['F##', 'G', 'Abb'],\n",
       " ['G#', 'Ab'],\n",
       " ['G##', 'A', 'Bbb'],\n",
       " ['A#', 'Bb', 'Cbb'],\n",
       " ['A##', 'B', 'Cb']]"
      ]
     },
     "execution_count": 14,
     "metadata": {},
     "output_type": "execute_result"
    }
   ],
   "source": [
    "chromatic('C')"
   ]
  },
  {
   "cell_type": "markdown",
   "id": "3b39a317-2cde-4b71-86b0-f131feed8fd4",
   "metadata": {},
   "source": [
    "### Scale Intervals\n",
    "The interval between the tonic and every other note in the scale can be given a name. These names also have enharmonic equivalents. These names are helpful when defining chords. The following is the name of each interval from the root:"
   ]
  },
  {
   "cell_type": "code",
   "execution_count": 1,
   "id": "bb09b43f-2045-4c4d-a1d5-6dd681c0cf04",
   "metadata": {},
   "outputs": [],
   "source": [
    "intervals = [\n",
    "    ['P1', 'd2'],  # Perfect unison   Diminished second Note: This is the tonic\n",
    "    ['m2', 'A1'],  # Minor second     Augmented unison\n",
    "    ['M2', 'd3'],  # Major second     Diminished third\n",
    "    ['m3', 'A2'],  # Minor third      Augmented second\n",
    "    ['M3', 'd4'],  # Major third      Diminished fourth\n",
    "    ['P4', 'A3'],  # Perfect fourth   Augmented third\n",
    "    ['d5', 'A4'],  # Diminished fifth Augmented fourth\n",
    "    ['P5', 'd6'],  # Perfect fifth    Diminished sixth\n",
    "    ['m6', 'A5'],  # Minor sixth      Augmented fifth\n",
    "    ['M6', 'd7'],  # Major sixth      Diminished seventh\n",
    "    ['m7', 'A6'],  # Minor seventh    Augmented sixth\n",
    "    ['M7', 'd8'],  # Major seventh    Diminished octave\n",
    "    ['P8', 'A7'],  # Perfect octave   Augmented seventh\n",
    "]"
   ]
  },
  {
   "cell_type": "markdown",
   "id": "9ffb8546-5126-49c9-a5b4-8942298da66f",
   "metadata": {},
   "source": [
    "## Writing Scales\n",
    "There are three ways to write the scale pattern, and hence, the scale (example used is C Major):\n",
    "* Write the pattern of the measures of the width (interval) of each scale step:\n",
    "    * W-W-H-W-W-W-H or T-T-S-T-T-T-S\n",
    "* Write the names of the intervals:\n",
    "    * P1,M2,M3,P4,P5,M6,M7,P8\n",
    "* Write the notes themselves:\n",
    "    * C D E F G A B C"
   ]
  },
  {
   "cell_type": "markdown",
   "id": "9d6acd5f-94cf-4327-9a68-1498392bb43f",
   "metadata": {},
   "source": [
    "## Constructing Scales\n",
    "We can use the `notes` array and the `intervals` array to create scales and chords with their correct enharminic spellings by considering the following:"
   ]
  },
  {
   "cell_type": "markdown",
   "id": "f6a9f569-f750-4e5f-a238-1d250dfc945d",
   "metadata": {},
   "source": [
    "### The Major Scales\n"
   ]
  },
  {
   "cell_type": "code",
   "execution_count": null,
   "id": "f1001fda-35d9-4943-932e-d1a010957c10",
   "metadata": {},
   "outputs": [],
   "source": []
  },
  {
   "cell_type": "code",
   "execution_count": null,
   "id": "7ddbb534-dbbc-4b94-9491-a803d2ea6321",
   "metadata": {},
   "outputs": [],
   "source": []
  },
  {
   "cell_type": "markdown",
   "id": "bb3709e4-e1c5-4687-ae93-dbb77c8b094b",
   "metadata": {},
   "source": [
    "Scrap:\n",
    "- ♭\n",
    "- ♯"
   ]
  },
  {
   "cell_type": "code",
   "execution_count": 8,
   "id": "085b9d0e-7929-4a3e-b017-dee2c3a6f2e4",
   "metadata": {},
   "outputs": [],
   "source": [
    "%load_ext abjadext.ipython"
   ]
  },
  {
   "cell_type": "code",
   "execution_count": 11,
   "id": "997aba8d-bbe8-4bf2-9e59-48234bca4d07",
   "metadata": {},
   "outputs": [
    {
     "data": {
      "image/svg+xml": [
       "<svg xmlns=\"http://www.w3.org/2000/svg\" xmlns:xlink=\"http://www.w3.org/1999/xlink\" version=\"1.2\" width=\"62.05mm\" height=\"14.59mm\" viewBox=\"8.5358 -0.0360 35.3116 8.3000\">\n",
       "<style text=\"style/css\">\n",
       "<![CDATA[\n",
       "tspan { white-space: pre; }\n",
       "]]>\n",
       "</style>\n",
       "<line transform=\"translate(8.5358, 5.7640)\" stroke-linejoin=\"round\" stroke-linecap=\"round\" stroke-width=\"0.1000\" stroke=\"currentColor\" x1=\"0.0500\" y1=\"-0.0000\" x2=\"35.2616\" y2=\"-0.0000\"/>\n",
       "<line transform=\"translate(8.5358, 4.7640)\" stroke-linejoin=\"round\" stroke-linecap=\"round\" stroke-width=\"0.1000\" stroke=\"currentColor\" x1=\"0.0500\" y1=\"-0.0000\" x2=\"35.2616\" y2=\"-0.0000\"/>\n",
       "<line transform=\"translate(8.5358, 3.7640)\" stroke-linejoin=\"round\" stroke-linecap=\"round\" stroke-width=\"0.1000\" stroke=\"currentColor\" x1=\"0.0500\" y1=\"-0.0000\" x2=\"35.2616\" y2=\"-0.0000\"/>\n",
       "<line transform=\"translate(8.5358, 2.7640)\" stroke-linejoin=\"round\" stroke-linecap=\"round\" stroke-width=\"0.1000\" stroke=\"currentColor\" x1=\"0.0500\" y1=\"-0.0000\" x2=\"35.2616\" y2=\"-0.0000\"/>\n",
       "<line transform=\"translate(8.5358, 1.7640)\" stroke-linejoin=\"round\" stroke-linecap=\"round\" stroke-width=\"0.1000\" stroke=\"currentColor\" x1=\"0.0500\" y1=\"-0.0000\" x2=\"35.2616\" y2=\"-0.0000\"/>\n",
       "<rect transform=\"translate(43.6575, 3.7640)\" x=\"0.0000\" y=\"-2.0000\" width=\"0.1900\" height=\"4.0000\" ry=\"0.0000\" fill=\"currentColor\"/>\n",
       "<rect transform=\"translate(30.0055, 3.7640)\" x=\"0.0000\" y=\"-2.0000\" width=\"0.1900\" height=\"4.0000\" ry=\"0.0000\" fill=\"currentColor\"/>\n",
       "<rect transform=\"translate(0.0000, 6.7640)\" x=\"20.4150\" y=\"-0.1000\" width=\"1.8053\" height=\"0.2000\" ry=\"0.1000\" fill=\"currentColor\"/>\n",
       "<rect transform=\"translate(0.0000, 6.7640)\" x=\"16.9098\" y=\"-0.1000\" width=\"1.9563\" height=\"0.2000\" ry=\"0.1000\" fill=\"currentColor\"/>\n",
       "<path transform=\"translate(20.5900, 6.7640) scale(0.0040, -0.0040)\" d=\"M218 136c55 0 108 -28 108 -89c0 -71 -55 -121 -102 -149c-35 -21 -75 -34 -116 -34c-55 0 -108 28 -108 89c0 71 55 121 102 149c35 21 75 34 116 34z\" fill=\"currentColor\"/>\n",
       "<rect transform=\"translate(41.6934, 3.7640)\" x=\"-0.0650\" y=\"-2.5000\" width=\"0.1300\" height=\"3.3139\" ry=\"0.0400\" fill=\"currentColor\"/>\n",
       "<path transform=\"translate(40.4542, 4.7640) scale(0.0040, -0.0040)\" d=\"M218 136c55 0 108 -28 108 -89c0 -71 -55 -121 -102 -149c-35 -21 -75 -34 -116 -34c-55 0 -108 28 -108 89c0 71 55 121 102 149c35 21 75 34 116 34z\" fill=\"currentColor\"/>\n",
       "<path transform=\"translate(36.0019, 5.2640) scale(0.0040, -0.0040)\" d=\"M216 -312c0 -10 -8 -19 -18 -19s-19 9 -19 19v145l-83 -31v-158c0 -10 -9 -19 -19 -19s-18 9 -18 19v145l-32 -12c-2 -1 -5 -1 -7 -1c-11 0 -20 9 -20 20v60c0 8 5 16 13 19l46 16v160l-32 -11c-2 -1 -5 -1 -7 -1c-11 0 -20 9 -20 20v60c0 8 5 15 13 18l46 17v158\n",
       "c0 10 8 19 18 19s19 -9 19 -19v-145l83 31v158c0 10 9 19 19 19s18 -9 18 -19v-145l32 12c2 1 5 1 7 1c11 0 20 -9 20 -20v-60c0 -8 -5 -16 -13 -19l-46 -16v-160l32 11c2 1 5 1 7 1c11 0 20 -9 20 -20v-60c0 -8 -5 -15 -13 -18l-46 -17v-158zM96 65v-160l83 30v160z\" fill=\"currentColor\"/>\n",
       "<rect transform=\"translate(32.3347, 3.7640)\" x=\"-0.0650\" y=\"-1.5000\" width=\"0.1300\" height=\"3.3139\" ry=\"0.0400\" fill=\"currentColor\"/>\n",
       "<path transform=\"translate(25.6165, 5.7640) scale(0.0040, -0.0040)\" d=\"M27 41l-1 -66v-11c0 -22 1 -44 4 -66c45 38 93 80 93 139c0 33 -14 67 -43 67c-31 0 -52 -30 -53 -63zM-15 -138l-12 595c8 5 18 8 27 8s19 -3 27 -8l-7 -345c25 21 58 34 91 34c52 0 89 -48 89 -102c0 -80 -86 -117 -147 -169c-15 -13 -24 -38 -45 -38\n",
       "c-13 0 -23 11 -23 25z\" fill=\"currentColor\"/>\n",
       "<rect transform=\"translate(28.0057, 3.7640)\" x=\"-0.0650\" y=\"-1.5000\" width=\"0.1300\" height=\"3.3139\" ry=\"0.0400\" fill=\"currentColor\"/>\n",
       "<path transform=\"translate(26.7665, 5.7640) scale(0.0040, -0.0040)\" d=\"M218 136c55 0 108 -28 108 -89c0 -71 -55 -121 -102 -149c-35 -21 -75 -34 -116 -34c-55 0 -108 28 -108 89c0 71 55 121 102 149c35 21 75 34 116 34z\" fill=\"currentColor\"/>\n",
       "<rect transform=\"translate(21.8292, 3.7640)\" x=\"-0.0650\" y=\"-0.5000\" width=\"0.1300\" height=\"3.3139\" ry=\"0.0400\" fill=\"currentColor\"/>\n",
       "<rect transform=\"translate(24.8315, 3.7640)\" x=\"-0.0650\" y=\"-1.0000\" width=\"0.1300\" height=\"3.3139\" ry=\"0.0400\" fill=\"currentColor\"/>\n",
       "<path transform=\"translate(23.5923, 6.2640) scale(0.0040, -0.0040)\" d=\"M218 136c55 0 108 -28 108 -89c0 -71 -55 -121 -102 -149c-35 -21 -75 -34 -116 -34c-55 0 -108 28 -108 89c0 71 55 121 102 149c35 21 75 34 116 34z\" fill=\"currentColor\"/>\n",
       "<path transform=\"translate(19.1400, 6.7640) scale(0.0040, -0.0040)\" d=\"M216 -312c0 -10 -8 -19 -18 -19s-19 9 -19 19v145l-83 -31v-158c0 -10 -9 -19 -19 -19s-18 9 -18 19v145l-32 -12c-2 -1 -5 -1 -7 -1c-11 0 -20 9 -20 20v60c0 8 5 16 13 19l46 16v160l-32 -11c-2 -1 -5 -1 -7 -1c-11 0 -20 9 -20 20v60c0 8 5 15 13 18l46 17v158\n",
       "c0 10 8 19 18 19s19 -9 19 -19v-145l83 31v158c0 10 9 19 19 19s18 -9 18 -19v-145l32 12c2 1 5 1 7 1c11 0 20 -9 20 -20v-60c0 -8 -5 -16 -13 -19l-46 -16v-160l32 11c2 1 5 1 7 1c11 0 20 -9 20 -20v-60c0 -8 -5 -15 -13 -18l-46 -17v-158zM96 65v-160l83 30v160z\" fill=\"currentColor\"/>\n",
       "<rect transform=\"translate(18.4750, 3.7640)\" x=\"-0.0650\" y=\"-0.5000\" width=\"0.1300\" height=\"3.3139\" ry=\"0.0400\" fill=\"currentColor\"/>\n",
       "<path transform=\"translate(13.5358, 3.7640) scale(0.0040, -0.0040)\" d=\"M359 27c-49 0 -75 42 -75 75c0 38 27 77 72 77c4 0 9 0 14 -1c-28 37 -72 59 -120 59c-106 0 -113 -73 -113 -186v-51v-51c0 -113 7 -187 113 -187c80 0 139 70 158 151c2 7 7 10 12 10c6 0 13 -4 13 -12c0 -94 -105 -174 -183 -174c-68 0 -137 21 -184 70\n",
       "c-49 51 -66 122 -66 193s17 142 66 193c47 49 116 69 184 69c87 0 160 -63 175 -149c1 -5 1 -10 1 -14c0 -40 -30 -72 -67 -72z\" fill=\"currentColor\"/>\n",
       "<path transform=\"translate(9.3358, 4.7640) scale(0.0040, -0.0040)\" d=\"M266 -635h-6c-108 0 -195 88 -195 197c0 58 53 103 112 103c54 0 95 -47 95 -103c0 -52 -43 -95 -95 -95c-11 0 -21 2 -31 6c26 -39 68 -65 117 -65h4zM461 -203c68 24 113 95 113 164c0 90 -66 179 -173 190c24 -116 46 -231 60 -354zM74 28c0 -135 129 -247 264 -247\n",
       "c28 0 55 2 82 6c-14 127 -37 245 -63 364c-79 -8 -124 -61 -124 -119c0 -44 25 -91 81 -123c5 -5 7 -10 7 -15c0 -11 -10 -22 -22 -22c-3 0 -6 1 -9 2c-80 43 -117 115 -117 185c0 88 58 174 160 197c-14 58 -29 117 -46 175c-107 -121 -213 -243 -213 -403zM335 -262\n",
       "c-188 0 -333 172 -333 374c0 177 131 306 248 441c-19 62 -37 125 -45 190c-6 52 -7 104 -7 156c0 115 55 224 149 292c6 5 14 5 20 0c71 -84 133 -245 133 -358c0 -143 -86 -255 -180 -364c21 -68 39 -138 56 -207c4 0 9 1 13 1c155 0 256 -128 256 -261\n",
       "c0 -76 -33 -154 -107 -210c-22 -17 -47 -28 -73 -36c3 -35 5 -70 5 -105c0 -19 -1 -39 -2 -58c-7 -119 -88 -225 -202 -228l1 43c93 2 153 92 159 191c1 18 2 37 2 55c0 31 -1 61 -4 92c-29 -5 -58 -8 -89 -8zM428 916c0 55 -4 79 -20 129c-99 -48 -162 -149 -162 -259\n",
       "c0 -74 18 -133 36 -194c80 97 146 198 146 324z\" fill=\"currentColor\"/>\n",
       "<path transform=\"translate(17.2358, 6.7640) scale(0.0040, -0.0040)\" d=\"M218 136c55 0 108 -28 108 -89c0 -71 -55 -121 -102 -149c-35 -21 -75 -34 -116 -34c-55 0 -108 28 -108 89c0 71 55 121 102 149c35 21 75 34 116 34z\" fill=\"currentColor\"/>\n",
       "<path transform=\"translate(31.0955, 5.7640) scale(0.0040, -0.0040)\" d=\"M218 136c55 0 108 -28 108 -89c0 -71 -55 -121 -102 -149c-35 -21 -75 -34 -116 -34c-55 0 -108 28 -108 89c0 71 55 121 102 149c35 21 75 34 116 34z\" fill=\"currentColor\"/>\n",
       "<rect transform=\"translate(38.6912, 3.7640)\" x=\"-0.0650\" y=\"-2.0000\" width=\"0.1300\" height=\"3.3139\" ry=\"0.0400\" fill=\"currentColor\"/>\n",
       "<path transform=\"translate(37.4519, 5.2640) scale(0.0040, -0.0040)\" d=\"M218 136c55 0 108 -28 108 -89c0 -71 -55 -121 -102 -149c-35 -21 -75 -34 -116 -34c-55 0 -108 28 -108 89c0 71 55 121 102 149c35 21 75 34 116 34z\" fill=\"currentColor\"/>\n",
       "<rect transform=\"translate(35.3369, 3.7640)\" x=\"-0.0650\" y=\"-2.0000\" width=\"0.1300\" height=\"3.3139\" ry=\"0.0400\" fill=\"currentColor\"/>\n",
       "<path transform=\"translate(34.0977, 5.2640) scale(0.0040, -0.0040)\" d=\"M218 136c55 0 108 -28 108 -89c0 -71 -55 -121 -102 -149c-35 -21 -75 -34 -116 -34c-55 0 -108 28 -108 89c0 71 55 121 102 149c35 21 75 34 116 34z\" fill=\"currentColor\"/>\n",
       "</svg>\n"
      ]
     },
     "metadata": {},
     "output_type": "display_data"
    }
   ],
   "source": [
    "abjad.show(staff)"
   ]
  },
  {
   "cell_type": "code",
   "execution_count": 1,
   "id": "38331609-e35c-486d-9bb9-ac259979bdcf",
   "metadata": {},
   "outputs": [],
   "source": [
    "import abjad\n",
    "duration = abjad.Duration(1, 4)\n",
    "notes = [abjad.Note(pitch, duration) for pitch in range(8)]\n",
    "staff = abjad.Staff(notes)\n",
    "abjad.show(staff)"
   ]
  },
  {
   "cell_type": "code",
   "execution_count": null,
   "id": "e27a7a85-f812-44e0-af2c-3ea7c1cd0977",
   "metadata": {},
   "outputs": [],
   "source": []
  },
  {
   "cell_type": "code",
   "execution_count": 2,
   "id": "8b66803f-2509-4a66-bd97-494b5802ebf3",
   "metadata": {},
   "outputs": [
    {
     "data": {
      "text/plain": [
       "(('./new.png',), 0.0049610137939453125, 0.6164069175720215, True)"
      ]
     },
     "execution_count": 2,
     "metadata": {},
     "output_type": "execute_result"
    }
   ],
   "source": [
    "abjad.persist.as_png(staff, \"./new\")"
   ]
  },
  {
   "cell_type": "code",
   "execution_count": 3,
   "id": "06b335c9-2f6d-4a1b-bb55-6e10fb2dc899",
   "metadata": {},
   "outputs": [
    {
     "data": {
      "image/png": "[encoded data removed]",
      "text/plain": [
       "<IPython.core.display.Image object>"
      ]
     },
     "execution_count": 3,
     "metadata": {},
     "output_type": "execute_result"
    }
   ],
   "source": [
    "from IPython.display import Image\n",
    "Image(filename='new.png') "
   ]
  },
  {
   "cell_type": "code",
   "execution_count": null,
   "id": "3e1b81a9-ec8a-4b1c-9b7e-594ab8ca4c60",
   "metadata": {},
   "outputs": [],
   "source": []
  },
  {
   "cell_type": "code",
   "execution_count": null,
   "id": "2a5434aa-7352-44dc-984b-cc61f600b61b",
   "metadata": {},
   "outputs": [],
   "source": []
  }
 ],
 "metadata": {
  "kernelspec": {
   "display_name": "Python [conda env:music]",
   "language": "python",
   "name": "conda-env-music-py"
  },
  "language_info": {
   "codemirror_mode": {
    "name": "ipython",
    "version": 3
   },
   "file_extension": ".py",
   "mimetype": "text/x-python",
   "name": "python",
   "nbconvert_exporter": "python",
   "pygments_lexer": "ipython3",
   "version": "3.9.5"
  }
 },
 "nbformat": 4,
 "nbformat_minor": 5
}
