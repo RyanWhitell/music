{
 "cells": [
  {
   "cell_type": "markdown",
   "id": "1d8ec5f7-54f2-4873-8687-4b0467bba656",
   "metadata": {},
   "source": [
    "# General Theory"
   ]
  },
  {
   "cell_type": "code",
   "execution_count": 2,
   "id": "8843329c-8528-4b71-8d48-8c4bb8478d0d",
   "metadata": {},
   "outputs": [],
   "source": [
    "from helpers.general import pprint_notes_common, sf_conv\n",
    "from helpers.bmtithlop import chromatic, print_intervals_standard, print_scale\n",
    "import abjad\n",
    "\n",
    "%load_ext abjadext.ipython"
   ]
  },
  {
   "cell_type": "markdown",
   "id": "77a39645-24de-458d-9d7a-46b4efd7af86",
   "metadata": {},
   "source": [
    "## Notes\n",
    "### The Musical Alphabet\n",
    "**Notes** are the letter names given to certain frequencies of sound. There are ``7`` natural notes (the white keys on a piano) for which all Western music is derived:"
   ]
  },
  {
   "cell_type": "code",
   "execution_count": 3,
   "id": "ee25cb01-1dae-4ee8-85c4-c7634e9a2f99",
   "metadata": {},
   "outputs": [],
   "source": [
    "alphabet = [\n",
    "    'A',\n",
    "    'B',\n",
    "    'C',\n",
    "    'D',\n",
    "    'E',\n",
    "    'F',\n",
    "    'G'\n",
    "]"
   ]
  },
  {
   "cell_type": "markdown",
   "id": "6786d833-3661-4457-a99c-92291853a787",
   "metadata": {},
   "source": [
    "### Sharps and Flats\n",
    "In between the alphabetical notes are sharps and flats (the black keys on a piano):"
   ]
  },
  {
   "cell_type": "code",
   "execution_count": 4,
   "id": "f64c77b1-ba80-4491-bf6f-0f59d3aa2b6d",
   "metadata": {},
   "outputs": [],
   "source": [
    "notes_basic = [\n",
    "    ['A'],\n",
    "    ['A#', 'Bb'],\n",
    "    ['B'],\n",
    "    ['C'],\n",
    "    ['C#', 'Db'],\n",
    "    ['D'],\n",
    "    ['D#', 'Eb'],\n",
    "    ['E'],\n",
    "    ['F'],\n",
    "    ['F#', 'Gb'],\n",
    "    ['G'],\n",
    "    ['G#', 'Ab'],\n",
    "]"
   ]
  },
  {
   "cell_type": "markdown",
   "id": "cb39b3d5-d44b-415c-9c53-51fd54768582",
   "metadata": {},
   "source": [
    "### Enharmonic Equivalents\n",
    "Because sharps and flats are just representations of a pitch \"higher\" or \"lower\" than an alphabetical note, the same note can be represented or \"spelled\" with either a sharp or a flat. These notes are said to have **enharmonic equivalents**. Later, it will be shown that _double sharps_ and _double flats_ are needed to represent _all_ musical elements in a way that makes the most sense. Therefore, all the notes used an their enharmonic equivalents are as follows: "
   ]
  },
  {
   "cell_type": "code",
   "execution_count": 5,
   "id": "9dd474c2-685c-4692-9e5d-b7a376a3cb4c",
   "metadata": {},
   "outputs": [],
   "source": [
    "notes = [\n",
    "    ['B#',  'C',  'Dbb'],\n",
    "    ['B##', 'C#', 'Db'],\n",
    "    ['C##', 'D',  'Ebb'],\n",
    "    ['D#',  'Eb', 'Fbb'],\n",
    "    ['D##', 'E',  'Fb'],\n",
    "    ['E#',  'F',  'Gbb'],\n",
    "    ['E##', 'F#', 'Gb'],\n",
    "    ['F##', 'G',  'Abb'],\n",
    "    ['G#',  'Ab'],\n",
    "    ['G##', 'A',  'Bbb'],\n",
    "    ['A#',  'Bb', 'Cbb'],\n",
    "    ['A##', 'B',  'Cb'],\n",
    "]"
   ]
  },
  {
   "cell_type": "markdown",
   "id": "0d2e590c-3538-4877-8888-d1691219c060",
   "metadata": {},
   "source": [
    "### Intervals\n",
    "The intervals between notes have names. A step above or below is a **half step** or **semitone**, two of these make a **whole step** or **tone**:"
   ]
  },
  {
   "cell_type": "code",
   "execution_count": 6,
   "id": "381ac634-f7be-4eaf-a141-0ba00aea0e47",
   "metadata": {},
   "outputs": [
    {
     "name": "stdout",
     "output_type": "stream",
     "text": [
      "A semitone above D is D♯\n",
      "A half step below D is C♯\n",
      "A tone above D is E\n",
      "A whole step below D is C\n"
     ]
    }
   ],
   "source": [
    "print(f'A semitone above {pprint_notes_common(notes[2])} is {pprint_notes_common(notes[2+1])}')\n",
    "print(f'A half step below {pprint_notes_common(notes[2])} is {pprint_notes_common(notes[2-1])}')\n",
    "print(f'A tone above {pprint_notes_common(notes[2])} is {pprint_notes_common(notes[2+2])}')\n",
    "print(f'A whole step below {pprint_notes_common(notes[2])} is {pprint_notes_common(notes[2-2])}')"
   ]
  },
  {
   "cell_type": "markdown",
   "id": "00d3e354-794f-4dc3-a56c-a0c021872882",
   "metadata": {},
   "source": [
    "### Octaves\n",
    "Doubling or halving the frequency of a note produces the same note at a different pitch, this is called an **octave**."
   ]
  },
  {
   "cell_type": "markdown",
   "id": "5e8c7dff-ef3f-4c4b-a30f-35a60e4c7cc8",
   "metadata": {},
   "source": [
    "## Scales\n",
    "Scales are a pattern of intervals, with a couple of important points:\n",
    "* Most or all of the melody and harmony of a musical work is built using the notes of a single scale.\n",
    "* Scales can be conveniently represented on a staff with a standard **key signature**.\n",
    "* Due to the principle of octave equivalence, scales are generally considered to span a single octave, with higher or lower octaves simply repeating the pattern.\n",
    "* A measure of the width of each scale step provides a method to classify scales.\n",
    "* Based on their interval patterns, scales are put into categories including **diatonic**, **chromatic**, **major**, **minor**, and others.\n",
    "* A specific scale is defined by its characteristic interval pattern and by a special note, known as its **first degree**, **root note**, or **tonic**.\n",
    "* The tonic of a scale is the note selected as the beginning of the octave, and therefore as the beginning of the adopted interval pattern."
   ]
  },
  {
   "cell_type": "markdown",
   "id": "7e75e167-9c80-415f-8266-f09ea684ab77",
   "metadata": {},
   "source": [
    "### The Chromatic Scale\n",
    "In Western music, every octave contains `12` notes. These notes make up the **chromatic scale**, which is all the semitones between an octave of a given root note. The chromatic scale in any key is the 12 semitones from the root note to it's octave:"
   ]
  },
  {
   "cell_type": "code",
   "execution_count": 7,
   "id": "b7bdfd61-a97f-417e-a1c6-7cb1491d96d3",
   "metadata": {},
   "outputs": [
    {
     "data": {
      "text/plain": [
       "[['B#', 'C', 'Dbb'],\n",
       " ['B##', 'C#', 'Db'],\n",
       " ['C##', 'D', 'Ebb'],\n",
       " ['D#', 'Eb', 'Fbb'],\n",
       " ['D##', 'E', 'Fb'],\n",
       " ['E#', 'F', 'Gbb'],\n",
       " ['E##', 'F#', 'Gb'],\n",
       " ['F##', 'G', 'Abb'],\n",
       " ['G#', 'Ab'],\n",
       " ['G##', 'A', 'Bbb'],\n",
       " ['A#', 'Bb', 'Cbb'],\n",
       " ['A##', 'B', 'Cb']]"
      ]
     },
     "execution_count": 7,
     "metadata": {},
     "output_type": "execute_result"
    }
   ],
   "source": [
    "chromatic('C')"
   ]
  },
  {
   "cell_type": "markdown",
   "id": "3b39a317-2cde-4b71-86b0-f131feed8fd4",
   "metadata": {},
   "source": [
    "### Scale Intervals\n",
    "The interval between the tonic and every other note in the scale can be given a name. These names also have enharmonic equivalents. These names are helpful when defining chords. The following is the name of each interval from the root:"
   ]
  },
  {
   "cell_type": "code",
   "execution_count": 8,
   "id": "bb09b43f-2045-4c4d-a1d5-6dd681c0cf04",
   "metadata": {},
   "outputs": [],
   "source": [
    "intervals = [\n",
    "    ['P1', 'd2'],  # Perfect unison   Diminished second Note: This is the tonic\n",
    "    ['m2', 'A1'],  # Minor second     Augmented unison\n",
    "    ['M2', 'd3'],  # Major second     Diminished third\n",
    "    ['m3', 'A2'],  # Minor third      Augmented second\n",
    "    ['M3', 'd4'],  # Major third      Diminished fourth\n",
    "    ['P4', 'A3'],  # Perfect fourth   Augmented third\n",
    "    ['d5', 'A4'],  # Diminished fifth Augmented fourth\n",
    "    ['P5', 'd6'],  # Perfect fifth    Diminished sixth\n",
    "    ['m6', 'A5'],  # Minor sixth      Augmented fifth\n",
    "    ['M6', 'd7'],  # Major sixth      Diminished seventh\n",
    "    ['m7', 'A6'],  # Minor seventh    Augmented sixth\n",
    "    ['M7', 'd8'],  # Major seventh    Diminished octave\n",
    "    ['P8', 'A7'],  # Perfect octave   Augmented seventh\n",
    "]"
   ]
  },
  {
   "cell_type": "markdown",
   "id": "9ffb8546-5126-49c9-a5b4-8942298da66f",
   "metadata": {},
   "source": [
    "### Writing Scales\n",
    "There are three ways to write the scale pattern, and hence, the scale (example used is C Major):\n",
    "* Write the pattern of the measures of the width (interval) of each scale step:\n",
    "    * W-W-H-W-W-W-H or T-T-S-T-T-T-S\n",
    "* Write the names of the intervals:\n",
    "    * P1,M2,M3,P4,P5,M6,M7,P8\n",
    "* Write the notes themselves:\n",
    "    * C D E F G A B C"
   ]
  },
  {
   "cell_type": "markdown",
   "id": "9d6acd5f-94cf-4327-9a68-1498392bb43f",
   "metadata": {},
   "source": [
    "### Constructing Scales\n",
    "We can use the `notes` array and the `intervals` array to create scales and chords with their correct enharmonic spellings by mapping the intervals for each root note. We can get the full mapping of tonic to interval using the function:"
   ]
  },
  {
   "cell_type": "code",
   "execution_count": 9,
   "id": "4d190bd2-6a54-4b6c-8a58-5b3c3c52b055",
   "metadata": {},
   "outputs": [
    {
     "name": "stdout",
     "output_type": "stream",
     "text": [
      "Perfect unison:\t\tC\n",
      "Diminished second:\t\tD♭♭\n",
      "Minor second:\t\tD♭\n",
      "Augmented unison:\t\tC♯\n",
      "Major second:\t\tD\n",
      "Diminished third:\t\tE♭♭\n",
      "Minor third:\t\tE♭\n",
      "Augmented second:\t\tD♯\n",
      "Major third:\t\tE\n",
      "Diminished fourth:\t\tF♭\n",
      "Perfect fourth:\t\tF\n",
      "Augmented third:\t\tE♯\n",
      "Diminished fifth:\t\tG♭\n",
      "Augmented fourth:\t\tF♯\n",
      "Perfect fifth:\t\tG\n",
      "Diminished sixth:\t\tA♭♭\n",
      "Minor sixth:\t\tA♭\n",
      "Augmented fifth:\t\tG♯\n",
      "Major sixth:\t\tA\n",
      "Diminished seventh:\t\tB♭♭\n",
      "Minor seventh:\t\tB♭\n",
      "Augmented sixth:\t\tA♯\n",
      "Major seventh:\t\tB\n",
      "Diminished octave:\t\tC♭\n",
      "Perfect octave:\t\tC\n",
      "Augmented seventh:\t\tB♯\n"
     ]
    }
   ],
   "source": [
    "print_intervals_standard('C')"
   ]
  },
  {
   "cell_type": "markdown",
   "id": "cdb01e59-23c7-481e-af8c-75c81e85d878",
   "metadata": {},
   "source": [
    "And the notes of any scale in any key by specifying the two:"
   ]
  },
  {
   "cell_type": "code",
   "execution_count": 10,
   "id": "4aaa877d-50bf-4361-8296-f7e916530e94",
   "metadata": {},
   "outputs": [
    {
     "name": "stdout",
     "output_type": "stream",
     "text": [
      "F G A B♭ C D E F\n"
     ]
    }
   ],
   "source": [
    "print_scale('P1,M2,M3,P4,P5,M6,M7,P8', 'F')"
   ]
  },
  {
   "cell_type": "markdown",
   "id": "f6a9f569-f750-4e5f-a238-1d250dfc945d",
   "metadata": {},
   "source": [
    "### The Major and Minor Scales\n",
    "The pattern for a major scale is:\n",
    "* `W-W-H-W-W-W-H`\n",
    "\n",
    "And a minor scale is:\n",
    "* `W-H-W-W-H-W-W`\n",
    "\n",
    "`C Major` and `A minor` can be played without sharps and flats. This means they have the key signature. `A minor` is the **relative minor** of `C Major`.\n",
    "\n",
    "Interval names are derived from scales. The third note in a major scale is the **major third** and the third note in a minor scale is the **minor third**. The fourth and fifth notes are the same in the major and minor scales so they are the **perfect fourth** and **perfect fifth** intervals."
   ]
  },
  {
   "cell_type": "markdown",
   "id": "c758cac7-d1c1-49ae-b24c-4ca74493361b",
   "metadata": {},
   "source": [
    "### Key Signatures\n",
    "Key signatures are a way to write scales that require sharps and flats by appending them to the front of the staff. The key signature is the actual notes that need to be played sharp or flat to satisfy the pattern of intervals of the scale."
   ]
  },
  {
   "cell_type": "markdown",
   "id": "0c42a367-2d39-4d8b-b062-68e36e1d0037",
   "metadata": {},
   "source": [
    "### The Circle of Fifths\n",
    "The **Circle of Fifths** is a way of organizing the 12 chromatic pitches as a sequence of perfect fifths. If C is chosen as a starting point, the sequence is: C, G, D, A, E, B/C♭, F♯/G♭, C♯/D♭, A♭, E♭, B♭, F. Continuing the pattern from F returns the sequence to its starting point of C. This order places the most closely related key signatures adjacent to one another. Inside the circle diagram is the relative minor, or the minor scale which has the same amount of **accidentals** as the major scale, or its **relative major**.\n",
    "![.](images/circle_of_fifths.png)"
   ]
  },
  {
   "cell_type": "markdown",
   "id": "ba6f8510-128c-4bb2-9ce7-b3a7b94df114",
   "metadata": {},
   "source": [
    "## Chords\n"
   ]
  },
  {
   "cell_type": "markdown",
   "id": "ea6ed126-90b4-4933-aab7-176fb9f52763",
   "metadata": {},
   "source": [
    "Chords are two or more notes played together. Chords are named with a note name and something to identify the type of chord, or **chord quality**. They can also be named by the root and interval pattern. For example:\n",
    "* Root + 4 Semitones + 3 Semitones is a Major Triad\n",
    "* Root + 3 Semitones + 4 Semitones is a minor Triad\n",
    "\n",
    "Chords in a scale can have a number name. For example, all the triads of the C Major scale starting at C are named 1-7."
   ]
  }
 ],
 "metadata": {
  "kernelspec": {
   "display_name": "Python [conda env:music]",
   "language": "python",
   "name": "conda-env-music-py"
  },
  "language_info": {
   "codemirror_mode": {
    "name": "ipython",
    "version": 3
   },
   "file_extension": ".py",
   "mimetype": "text/x-python",
   "name": "python",
   "nbconvert_exporter": "python",
   "pygments_lexer": "ipython3",
   "version": "3.9.5"
  }
 },
 "nbformat": 4,
 "nbformat_minor": 5
}
