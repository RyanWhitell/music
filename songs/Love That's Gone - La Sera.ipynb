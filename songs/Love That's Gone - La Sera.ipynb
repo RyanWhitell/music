{
 "cells": [
  {
   "cell_type": "markdown",
   "id": "de2a28cd-0d84-449a-b63d-403c86549263",
   "metadata": {},
   "source": [
    "# Love That's Gone - La Sera"
   ]
  },
  {
   "cell_type": "code",
   "execution_count": 1,
   "id": "27b80dcf-4326-493c-9693-d0e63083c2c4",
   "metadata": {},
   "outputs": [],
   "source": [
    "import sys\n",
    "import abjad\n",
    "\n",
    "sys.path.append('../')\n",
    "from helpers.abjad_helpers import get_staff\n",
    "\n",
    "%load_ext abjadext.ipython"
   ]
  },
  {
   "cell_type": "code",
   "execution_count": 46,
   "id": "de25c5ee-2759-4766-ac72-ba11d3efffbb",
   "metadata": {},
   "outputs": [],
   "source": [
    "def legato_slide(pitch_from, pitch_to):\n",
    "    \"\"\"\n",
    "        legato slide: Strike the first note and\n",
    "        then slide the same fret-hand finger up or\n",
    "        down to the second note. The second note\n",
    "        is not struck.\n",
    "    \"\"\"\n",
    "    return f'{pitch_from}(\\glissando {pitch_to})'"
   ]
  },
  {
   "cell_type": "code",
   "execution_count": 51,
   "id": "32138d4f-4ee0-4816-878b-569fe71150ba",
   "metadata": {},
   "outputs": [
    {
     "data": {
      "image/svg+xml": [
       "<svg xmlns=\"http://www.w3.org/2000/svg\" xmlns:xlink=\"http://www.w3.org/1999/xlink\" version=\"1.2\" width=\"37.49mm\" height=\"9.58mm\" viewBox=\"8.5358 0.0020 21.3322 5.4500\">\n",
       "<style text=\"style/css\">\n",
       "<![CDATA[\n",
       "tspan { white-space: pre; }\n",
       "]]>\n",
       "</style>\n",
       "<line transform=\"translate(8.5358, 4.0520)\" stroke-linejoin=\"round\" stroke-linecap=\"round\" stroke-width=\"0.1000\" stroke=\"currentColor\" x1=\"0.0500\" y1=\"-0.0000\" x2=\"21.3322\" y2=\"-0.0000\"/>\n",
       "<line transform=\"translate(8.5358, 3.0520)\" stroke-linejoin=\"round\" stroke-linecap=\"round\" stroke-width=\"0.1000\" stroke=\"currentColor\" x1=\"0.0500\" y1=\"-0.0000\" x2=\"21.3322\" y2=\"-0.0000\"/>\n",
       "<line transform=\"translate(8.5358, 2.0520)\" stroke-linejoin=\"round\" stroke-linecap=\"round\" stroke-width=\"0.1000\" stroke=\"currentColor\" x1=\"0.0500\" y1=\"-0.0000\" x2=\"21.3322\" y2=\"-0.0000\"/>\n",
       "<line transform=\"translate(8.5358, 1.0520)\" stroke-linejoin=\"round\" stroke-linecap=\"round\" stroke-width=\"0.1000\" stroke=\"currentColor\" x1=\"0.0500\" y1=\"-0.0000\" x2=\"21.3322\" y2=\"-0.0000\"/>\n",
       "<line transform=\"translate(8.5358, 0.0520)\" stroke-linejoin=\"round\" stroke-linecap=\"round\" stroke-width=\"0.1000\" stroke=\"currentColor\" x1=\"0.0500\" y1=\"-0.0000\" x2=\"21.3322\" y2=\"-0.0000\"/>\n",
       "<path transform=\"translate(24.7485, 2.0520)\" stroke-width=\"0.0800\" stroke-linejoin=\"round\" stroke-linecap=\"round\" stroke=\"currentColor\" fill=\"currentColor\" d=\"M1.6042 -0.1447C1.7041 -0.9755 2.3502 -1.4807 3.0751 -1.2947L3.0751 -1.2947C2.4241 -1.3862 1.7780 -0.8810 1.6042 -0.1447z\"/>\n",
       "<path transform=\"translate(27.4138, 2.0520) scale(0.0040, -0.0040)\" d=\"M218 136c55 0 108 -28 108 -89c0 -71 -55 -121 -102 -149c-35 -21 -75 -34 -116 -34c-55 0 -108 28 -108 89c0 71 55 121 102 149c35 21 75 34 116 34z\" fill=\"currentColor\"/>\n",
       "<rect transform=\"translate(27.4788, 2.0520)\" x=\"-0.0650\" y=\"0.1861\" width=\"0.1300\" height=\"3.1889\" ry=\"0.0400\" fill=\"currentColor\"/>\n",
       "<path transform=\"translate(27.5438, 5.3870) scale(0.0040, -0.0040)\" d=\"M0 0h-16v250h16v-250zM0 0v250c97 59 224 148 224 259c0 57 -15 112 -40 163c-3 16 10 27 23 27c7 0 15 -3 20 -11c25 -56 40 -117 40 -179c0 -203 -267 -306 -267 -509z\" fill=\"currentColor\"/>\n",
       "<rect transform=\"translate(20.9792, 2.0520)\" x=\"-0.0650\" y=\"-1.8100\" width=\"0.1300\" height=\"3.1239\" ry=\"0.0400\" fill=\"currentColor\"/>\n",
       "<path transform=\"translate(22.2442, 3.5520) scale(0.0040, -0.0040)\" d=\"M218 136c55 0 108 -28 108 -89c0 -71 -55 -121 -102 -149c-35 -21 -75 -34 -116 -34c-55 0 -108 28 -108 89c0 71 55 121 102 149c35 21 75 34 116 34z\" fill=\"currentColor\"/>\n",
       "<rect transform=\"translate(23.4835, 2.0520)\" x=\"-0.0650\" y=\"-1.8100\" width=\"0.1300\" height=\"3.1239\" ry=\"0.0400\" fill=\"currentColor\"/>\n",
       "<path transform=\"translate(24.7485, 3.5520) scale(0.0040, -0.0040)\" d=\"M218 136c55 0 108 -28 108 -89c0 -71 -55 -121 -102 -149c-35 -21 -75 -34 -116 -34c-55 0 -108 28 -108 89c0 71 55 121 102 149c35 21 75 34 116 34z\" fill=\"currentColor\"/>\n",
       "<polygon transform=\"translate(18.4100, 0.2420)\" stroke-linejoin=\"round\" stroke-linecap=\"round\" stroke-width=\"0.0800\" fill=\"currentColor\" stroke=\"currentColor\" points=\"7.6026 -0.2000 7.6026 0.2000 0.0400 0.2000 0.0400 -0.2000\"/>\n",
       "<line transform=\"translate(0.0000, 2.0520)\" stroke-linejoin=\"round\" stroke-linecap=\"round\" stroke-width=\"0.1000\" stroke=\"currentColor\" x1=\"26.3887\" y1=\"1.1297\" x2=\"27.0778\" y2=\"0.3703\"/>\n",
       "<path transform=\"translate(19.7400, 3.5520) scale(0.0040, -0.0040)\" d=\"M218 136c55 0 108 -28 108 -89c0 -71 -55 -121 -102 -149c-35 -21 -75 -34 -116 -34c-55 0 -108 28 -108 89c0 71 55 121 102 149c35 21 75 34 116 34z\" fill=\"currentColor\"/>\n",
       "<path transform=\"translate(17.2358, 3.5520) scale(0.0040, -0.0040)\" d=\"M218 136c55 0 108 -28 108 -89c0 -71 -55 -121 -102 -149c-35 -21 -75 -34 -116 -34c-55 0 -108 28 -108 89c0 71 55 121 102 149c35 21 75 34 116 34z\" fill=\"currentColor\"/>\n",
       "<path transform=\"translate(9.3358, 1.0520) scale(0.0040, -0.0040)\" d=\"M557 -125c0 28 23 51 51 51s51 -23 51 -51s-23 -51 -51 -51s-51 23 -51 51zM557 125c0 28 23 51 51 51s51 -23 51 -51s-23 -51 -51 -51s-51 23 -51 51zM232 263c172 0 293 -88 293 -251c0 -263 -263 -414 -516 -521c-3 -3 -6 -4 -9 -4c-7 0 -13 6 -13 13c0 3 1 6 4 9\n",
       "c202 118 412 265 412 493c0 120 -63 235 -171 235c-74 0 -129 -54 -154 -126c11 5 22 8 34 8c55 0 100 -45 100 -100c0 -58 -44 -106 -100 -106c-60 0 -112 47 -112 106c0 133 102 244 232 244z\" fill=\"currentColor\"/>\n",
       "<path transform=\"translate(13.5358, 2.0520) scale(0.0040, -0.0040)\" d=\"M359 27c-49 0 -75 42 -75 75c0 38 27 77 72 77c4 0 9 0 14 -1c-28 37 -72 59 -120 59c-106 0 -113 -73 -113 -186v-51v-51c0 -113 7 -187 113 -187c80 0 139 70 158 151c2 7 7 10 12 10c6 0 13 -4 13 -12c0 -94 -105 -174 -183 -174c-68 0 -137 21 -184 70\n",
       "c-49 51 -66 122 -66 193s17 142 66 193c47 49 116 69 184 69c87 0 160 -63 175 -149c1 -5 1 -10 1 -14c0 -40 -30 -72 -67 -72z\" fill=\"currentColor\"/>\n",
       "<rect transform=\"translate(18.4750, 2.0520)\" x=\"-0.0650\" y=\"-1.8100\" width=\"0.1300\" height=\"3.1239\" ry=\"0.0400\" fill=\"currentColor\"/>\n",
       "<rect transform=\"translate(25.9877, 2.0520)\" x=\"-0.0650\" y=\"-1.8100\" width=\"0.1300\" height=\"3.1239\" ry=\"0.0400\" fill=\"currentColor\"/>\n",
       "</svg>\n"
      ]
     },
     "metadata": {},
     "output_type": "display_data"
    }
   ],
   "source": [
    "# Bass Part\n",
    "bass_intro = f\"a,8 a,8 a,8 a,8 a,8 a,8 a,8 a,8\"\n",
    "bass_intro = intro * 8\n",
    "\n",
    "bass_verse_1 = f\"\\clef bass a,8 a,8 a,8 {legato_slide('a,8', 'd8') 'd8'}\"\n",
    "\n",
    "bass_voice = abjad.Voice(bass_verse_1, name=\"bass_voice\")\n",
    "abjad.show(bass_voice)"
   ]
  },
  {
   "cell_type": "code",
   "execution_count": 41,
   "id": "2c7ae0bd-d07a-41ab-b537-cf1c22abb685",
   "metadata": {},
   "outputs": [
    {
     "data": {
      "image/svg+xml": [
       "<svg xmlns=\"http://www.w3.org/2000/svg\" xmlns:xlink=\"http://www.w3.org/1999/xlink\" version=\"1.2\" width=\"53.73mm\" height=\"7.20mm\" viewBox=\"8.5358 0.0020 30.5737 4.1000\">\n",
       "<style text=\"style/css\">\n",
       "<![CDATA[\n",
       "tspan { white-space: pre; }\n",
       "]]>\n",
       "</style>\n",
       "<line transform=\"translate(8.5358, 4.0520)\" stroke-linejoin=\"round\" stroke-linecap=\"round\" stroke-width=\"0.1000\" stroke=\"currentColor\" x1=\"0.0500\" y1=\"-0.0000\" x2=\"30.5237\" y2=\"-0.0000\"/>\n",
       "<line transform=\"translate(8.5358, 3.0520)\" stroke-linejoin=\"round\" stroke-linecap=\"round\" stroke-width=\"0.1000\" stroke=\"currentColor\" x1=\"0.0500\" y1=\"-0.0000\" x2=\"30.5237\" y2=\"-0.0000\"/>\n",
       "<line transform=\"translate(8.5358, 2.0520)\" stroke-linejoin=\"round\" stroke-linecap=\"round\" stroke-width=\"0.1000\" stroke=\"currentColor\" x1=\"0.0500\" y1=\"-0.0000\" x2=\"30.5237\" y2=\"-0.0000\"/>\n",
       "<line transform=\"translate(8.5358, 1.0520)\" stroke-linejoin=\"round\" stroke-linecap=\"round\" stroke-width=\"0.1000\" stroke=\"currentColor\" x1=\"0.0500\" y1=\"-0.0000\" x2=\"30.5237\" y2=\"-0.0000\"/>\n",
       "<line transform=\"translate(8.5358, 0.0520)\" stroke-linejoin=\"round\" stroke-linecap=\"round\" stroke-width=\"0.1000\" stroke=\"currentColor\" x1=\"0.0500\" y1=\"-0.0000\" x2=\"30.5237\" y2=\"-0.0000\"/>\n",
       "<path transform=\"translate(37.2695, 1.5520) scale(0.0040, -0.0040)\" d=\"M0 0c0 31 25 56 56 56s56 -25 56 -56s-25 -56 -56 -56s-56 25 -56 56z\" fill=\"currentColor\"/>\n",
       "<path transform=\"translate(37.2695, 2.5520) scale(0.0040, -0.0040)\" d=\"M0 0c0 31 25 56 56 56s56 -25 56 -56s-25 -56 -56 -56s-56 25 -56 56z\" fill=\"currentColor\"/>\n",
       "<rect transform=\"translate(38.5095, 2.0520)\" x=\"0.0000\" y=\"-2.0000\" width=\"0.6000\" height=\"4.0000\" ry=\"0.0000\" fill=\"currentColor\"/>\n",
       "<rect transform=\"translate(38.0195, 2.0520)\" x=\"0.0000\" y=\"-2.0000\" width=\"0.1900\" height=\"4.0000\" ry=\"0.0000\" fill=\"currentColor\"/>\n",
       "<rect transform=\"translate(25.9877, 2.0520)\" x=\"-0.0650\" y=\"-1.8100\" width=\"0.1300\" height=\"3.1239\" ry=\"0.0400\" fill=\"currentColor\"/>\n",
       "<rect transform=\"translate(23.4835, 2.0520)\" x=\"-0.0650\" y=\"-1.8100\" width=\"0.1300\" height=\"3.1239\" ry=\"0.0400\" fill=\"currentColor\"/>\n",
       "<path transform=\"translate(22.2442, 3.5520) scale(0.0040, -0.0040)\" d=\"M218 136c55 0 108 -28 108 -89c0 -71 -55 -121 -102 -149c-35 -21 -75 -34 -116 -34c-55 0 -108 28 -108 89c0 71 55 121 102 149c35 21 75 34 116 34z\" fill=\"currentColor\"/>\n",
       "<rect transform=\"translate(20.9792, 2.0520)\" x=\"-0.0650\" y=\"-1.8100\" width=\"0.1300\" height=\"3.1239\" ry=\"0.0400\" fill=\"currentColor\"/>\n",
       "<path transform=\"translate(19.7400, 3.5520) scale(0.0040, -0.0040)\" d=\"M218 136c55 0 108 -28 108 -89c0 -71 -55 -121 -102 -149c-35 -21 -75 -34 -116 -34c-55 0 -108 28 -108 89c0 71 55 121 102 149c35 21 75 34 116 34z\" fill=\"currentColor\"/>\n",
       "<polygon transform=\"translate(18.4100, 0.2420)\" stroke-linejoin=\"round\" stroke-linecap=\"round\" stroke-width=\"0.0800\" fill=\"currentColor\" stroke=\"currentColor\" points=\"7.6026 -0.2000 7.6026 0.2000 0.0400 0.2000 0.0400 -0.2000\"/>\n",
       "<path transform=\"translate(29.7569, 3.5520) scale(0.0040, -0.0040)\" d=\"M218 136c55 0 108 -28 108 -89c0 -71 -55 -121 -102 -149c-35 -21 -75 -34 -116 -34c-55 0 -108 28 -108 89c0 71 55 121 102 149c35 21 75 34 116 34z\" fill=\"currentColor\"/>\n",
       "<polygon transform=\"translate(28.4269, 0.2420)\" stroke-linejoin=\"round\" stroke-linecap=\"round\" stroke-width=\"0.0800\" fill=\"currentColor\" stroke=\"currentColor\" points=\"7.6026 -0.2000 7.6026 0.2000 0.0400 0.2000 0.0400 -0.2000\"/>\n",
       "<rect transform=\"translate(33.5003, 2.0520)\" x=\"-0.0650\" y=\"-1.8100\" width=\"0.1300\" height=\"3.1239\" ry=\"0.0400\" fill=\"currentColor\"/>\n",
       "<path transform=\"translate(32.2611, 3.5520) scale(0.0040, -0.0040)\" d=\"M218 136c55 0 108 -28 108 -89c0 -71 -55 -121 -102 -149c-35 -21 -75 -34 -116 -34c-55 0 -108 28 -108 89c0 71 55 121 102 149c35 21 75 34 116 34z\" fill=\"currentColor\"/>\n",
       "<rect transform=\"translate(30.9961, 2.0520)\" x=\"-0.0650\" y=\"-1.8100\" width=\"0.1300\" height=\"3.1239\" ry=\"0.0400\" fill=\"currentColor\"/>\n",
       "<rect transform=\"translate(28.4919, 2.0520)\" x=\"-0.0650\" y=\"-1.8100\" width=\"0.1300\" height=\"3.1239\" ry=\"0.0400\" fill=\"currentColor\"/>\n",
       "<path transform=\"translate(27.2527, 3.5520) scale(0.0040, -0.0040)\" d=\"M218 136c55 0 108 -28 108 -89c0 -71 -55 -121 -102 -149c-35 -21 -75 -34 -116 -34c-55 0 -108 28 -108 89c0 71 55 121 102 149c35 21 75 34 116 34z\" fill=\"currentColor\"/>\n",
       "<rect transform=\"translate(18.4750, 2.0520)\" x=\"-0.0650\" y=\"-1.8100\" width=\"0.1300\" height=\"3.1239\" ry=\"0.0400\" fill=\"currentColor\"/>\n",
       "<path transform=\"translate(13.5358, 2.0520) scale(0.0040, -0.0040)\" d=\"M359 27c-49 0 -75 42 -75 75c0 38 27 77 72 77c4 0 9 0 14 -1c-28 37 -72 59 -120 59c-106 0 -113 -73 -113 -186v-51v-51c0 -113 7 -187 113 -187c80 0 139 70 158 151c2 7 7 10 12 10c6 0 13 -4 13 -12c0 -94 -105 -174 -183 -174c-68 0 -137 21 -184 70\n",
       "c-49 51 -66 122 -66 193s17 142 66 193c47 49 116 69 184 69c87 0 160 -63 175 -149c1 -5 1 -10 1 -14c0 -40 -30 -72 -67 -72z\" fill=\"currentColor\"/>\n",
       "<path transform=\"translate(9.3358, 1.0520) scale(0.0040, -0.0040)\" d=\"M557 -125c0 28 23 51 51 51s51 -23 51 -51s-23 -51 -51 -51s-51 23 -51 51zM557 125c0 28 23 51 51 51s51 -23 51 -51s-23 -51 -51 -51s-51 23 -51 51zM232 263c172 0 293 -88 293 -251c0 -263 -263 -414 -516 -521c-3 -3 -6 -4 -9 -4c-7 0 -13 6 -13 13c0 3 1 6 4 9\n",
       "c202 118 412 265 412 493c0 120 -63 235 -171 235c-74 0 -129 -54 -154 -126c11 5 22 8 34 8c55 0 100 -45 100 -100c0 -58 -44 -106 -100 -106c-60 0 -112 47 -112 106c0 133 102 244 232 244z\" fill=\"currentColor\"/>\n",
       "<path transform=\"translate(17.2358, 3.5520) scale(0.0040, -0.0040)\" d=\"M218 136c55 0 108 -28 108 -89c0 -71 -55 -121 -102 -149c-35 -21 -75 -34 -116 -34c-55 0 -108 28 -108 89c0 71 55 121 102 149c35 21 75 34 116 34z\" fill=\"currentColor\"/>\n",
       "<path transform=\"translate(24.7485, 3.5520) scale(0.0040, -0.0040)\" d=\"M218 136c55 0 108 -28 108 -89c0 -71 -55 -121 -102 -149c-35 -21 -75 -34 -116 -34c-55 0 -108 28 -108 89c0 71 55 121 102 149c35 21 75 34 116 34z\" fill=\"currentColor\"/>\n",
       "<rect transform=\"translate(36.0045, 2.0520)\" x=\"-0.0650\" y=\"-1.8100\" width=\"0.1300\" height=\"3.1239\" ry=\"0.0400\" fill=\"currentColor\"/>\n",
       "<path transform=\"translate(34.7653, 3.5520) scale(0.0040, -0.0040)\" d=\"M218 136c55 0 108 -28 108 -89c0 -71 -55 -121 -102 -149c-35 -21 -75 -34 -116 -34c-55 0 -108 28 -108 89c0 71 55 121 102 149c35 21 75 34 116 34z\" fill=\"currentColor\"/>\n",
       "</svg>\n"
      ]
     },
     "metadata": {},
     "output_type": "display_data"
    }
   ],
   "source": [
    "intro = \"a,8 a,8 a,8 a,8 a,8 a,8 a,8 a,8\"\n",
    "intro \n",
    "\n",
    "bass_voice = abjad.Voice(\"a,8 a,8 a,8 a,8 a,8 a,8 a,8 a,8\", name=\"bass_voice\")\n",
    "\n",
    "\n",
    "repeat = abjad.Repeat()\n",
    "abjad.attach(repeat, bass_voice)\n",
    "\n",
    "staff = abjad.Staff([bass_voice], name=\"Bass\")\n",
    "\n",
    "abjad.show(staff)"
   ]
  },
  {
   "cell_type": "code",
   "execution_count": null,
   "id": "9368e672-d246-4030-8446-3992a539739a",
   "metadata": {},
   "outputs": [],
   "source": [
    "bass_clef = abjad.Clef('bass')\n",
    "abjad.attach(bass_clef, bass)"
   ]
  },
  {
   "cell_type": "code",
   "execution_count": 19,
   "id": "4d771faa-5ed4-4f66-87fd-4ec2dd83c986",
   "metadata": {},
   "outputs": [
    {
     "ename": "Exception",
     "evalue": "can not attach Clef('bass') to containers: Staff(name='Piano lower')",
     "output_type": "error",
     "traceback": [
      "\u001b[0;31m---------------------------------------------------------------------------\u001b[0m",
      "\u001b[0;31mException\u001b[0m                                 Traceback (most recent call last)",
      "\u001b[0;32m<ipython-input-19-3ecb7bfff486>\u001b[0m in \u001b[0;36m<module>\u001b[0;34m\u001b[0m\n\u001b[1;32m     12\u001b[0m \u001b[0;34m\u001b[0m\u001b[0m\n\u001b[1;32m     13\u001b[0m \u001b[0mbass_clef\u001b[0m \u001b[0;34m=\u001b[0m \u001b[0mabjad\u001b[0m\u001b[0;34m.\u001b[0m\u001b[0mClef\u001b[0m\u001b[0;34m(\u001b[0m\u001b[0;34m'bass'\u001b[0m\u001b[0;34m)\u001b[0m\u001b[0;34m\u001b[0m\u001b[0;34m\u001b[0m\u001b[0m\n\u001b[0;32m---> 14\u001b[0;31m \u001b[0mabjad\u001b[0m\u001b[0;34m.\u001b[0m\u001b[0mattach\u001b[0m\u001b[0;34m(\u001b[0m\u001b[0mbass_clef\u001b[0m\u001b[0;34m,\u001b[0m \u001b[0mlower_staff\u001b[0m\u001b[0;34m)\u001b[0m\u001b[0;34m\u001b[0m\u001b[0;34m\u001b[0m\u001b[0m\n\u001b[0m",
      "\u001b[0;32m~/anaconda3/envs/music/lib/python3.9/site-packages/abjad/attach.py\u001b[0m in \u001b[0;36mattach\u001b[0;34m(attachable, target, context, deactivate, do_not_test, synthetic_offset, tag, wrapper)\u001b[0m\n\u001b[1;32m    990\u001b[0m         \u001b[0;32mif\u001b[0m \u001b[0;32mnot\u001b[0m \u001b[0macceptable\u001b[0m\u001b[0;34m:\u001b[0m\u001b[0;34m\u001b[0m\u001b[0;34m\u001b[0m\u001b[0m\n\u001b[1;32m    991\u001b[0m             \u001b[0mmessage\u001b[0m \u001b[0;34m=\u001b[0m \u001b[0;34mf\"can not attach {attachable!r} to containers: {target!r}\"\u001b[0m\u001b[0;34m\u001b[0m\u001b[0;34m\u001b[0m\u001b[0m\n\u001b[0;32m--> 992\u001b[0;31m             \u001b[0;32mraise\u001b[0m \u001b[0mException\u001b[0m\u001b[0;34m(\u001b[0m\u001b[0mmessage\u001b[0m\u001b[0;34m)\u001b[0m\u001b[0;34m\u001b[0m\u001b[0;34m\u001b[0m\u001b[0m\n\u001b[0m\u001b[1;32m    993\u001b[0m     \u001b[0;32melif\u001b[0m \u001b[0;32mnot\u001b[0m \u001b[0misinstance\u001b[0m\u001b[0;34m(\u001b[0m\u001b[0mtarget\u001b[0m\u001b[0;34m,\u001b[0m \u001b[0mLeaf\u001b[0m\u001b[0;34m)\u001b[0m\u001b[0;34m:\u001b[0m\u001b[0;34m\u001b[0m\u001b[0;34m\u001b[0m\u001b[0m\n\u001b[1;32m    994\u001b[0m         \u001b[0mmessage\u001b[0m \u001b[0;34m=\u001b[0m \u001b[0;34mf\"indicator {attachable!r} must attach to leaf, not {target!r}.\"\u001b[0m\u001b[0;34m\u001b[0m\u001b[0;34m\u001b[0m\u001b[0m\n",
      "\u001b[0;31mException\u001b[0m: can not attach Clef('bass') to containers: Staff(name='Piano lower')"
     ]
    }
   ],
   "source": [
    "\n",
    "piano_staff = abjad.StaffGroup()\n",
    "piano_staff.name = 'Piano'\n",
    "\n",
    "upper_staff = abjad.Staff([])\n",
    "upper_staff.name = 'Piano upper'\n",
    "\n",
    "lower_staff = abjad.Staff([])\n",
    "lower_staff.name = 'Piano lower'\n",
    "\n",
    "piano_staff.append(upper_staff)\n",
    "piano_staff.append(lower_staff)\n",
    "\n",
    "bass_clef = abjad.Clef('bass')\n",
    "abjad.attach(bass_clef, lower_staff)\n"
   ]
  },
  {
   "cell_type": "code",
   "execution_count": null,
   "id": "97320b73-1624-425c-b291-b5336e850c0c",
   "metadata": {},
   "outputs": [],
   "source": []
  },
  {
   "cell_type": "code",
   "execution_count": 20,
   "id": "2bace9fe-a281-4326-959a-bea80007f57b",
   "metadata": {},
   "outputs": [
    {
     "ename": "TypeError",
     "evalue": "get_staff() missing 4 required positional arguments: 'time_signature', 'time_signature_partial', 'key_tonic', and 'key'",
     "output_type": "error",
     "traceback": [
      "\u001b[0;31m---------------------------------------------------------------------------\u001b[0m",
      "\u001b[0;31mTypeError\u001b[0m                                 Traceback (most recent call last)",
      "\u001b[0;32m<ipython-input-20-42b01c4ef635>\u001b[0m in \u001b[0;36m<module>\u001b[0;34m\u001b[0m\n\u001b[0;32m----> 1\u001b[0;31m \u001b[0mstaff\u001b[0m \u001b[0;34m=\u001b[0m \u001b[0mget_staff\u001b[0m\u001b[0;34m(\u001b[0m\u001b[0;34m)\u001b[0m\u001b[0;34m\u001b[0m\u001b[0;34m\u001b[0m\u001b[0m\n\u001b[0m\u001b[1;32m      2\u001b[0m \u001b[0;34m\u001b[0m\u001b[0m\n\u001b[1;32m      3\u001b[0m \u001b[0;34m\u001b[0m\u001b[0m\n\u001b[1;32m      4\u001b[0m \u001b[0mkey_signature\u001b[0m \u001b[0;34m=\u001b[0m \u001b[0mabjad\u001b[0m\u001b[0;34m.\u001b[0m\u001b[0mKeySignature\u001b[0m\u001b[0;34m(\u001b[0m\u001b[0;34m\"c\"\u001b[0m\u001b[0;34m,\u001b[0m \u001b[0;34m\"major\"\u001b[0m\u001b[0;34m)\u001b[0m\u001b[0;34m\u001b[0m\u001b[0;34m\u001b[0m\u001b[0m\n\u001b[1;32m      5\u001b[0m \u001b[0mtime_signature\u001b[0m \u001b[0;34m=\u001b[0m \u001b[0mabjad\u001b[0m\u001b[0;34m.\u001b[0m\u001b[0mTimeSignature\u001b[0m\u001b[0;34m(\u001b[0m\u001b[0;34m(\u001b[0m\u001b[0;36m4\u001b[0m\u001b[0;34m,\u001b[0m \u001b[0;36m4\u001b[0m\u001b[0;34m)\u001b[0m\u001b[0;34m,\u001b[0m \u001b[0mpartial\u001b[0m\u001b[0;34m=\u001b[0m\u001b[0;34m(\u001b[0m\u001b[0;36m1\u001b[0m\u001b[0;34m,\u001b[0m \u001b[0;36m4\u001b[0m\u001b[0;34m)\u001b[0m\u001b[0;34m)\u001b[0m\u001b[0;34m\u001b[0m\u001b[0;34m\u001b[0m\u001b[0m\n",
      "\u001b[0;31mTypeError\u001b[0m: get_staff() missing 4 required positional arguments: 'time_signature', 'time_signature_partial', 'key_tonic', and 'key'"
     ]
    }
   ],
   "source": [
    "staff = get_staff()\n",
    "\n",
    "\n",
    "key_signature = abjad.KeySignature(\"c\", \"major\")\n",
    "time_signature = abjad.TimeSignature((4, 4), partial=(1, 4))\n",
    "clef = abjad.Clef(\"bass\")\n",
    "clef = abjad.Clef(\"bass\")\n",
    "\n",
    "intro = \"a,8 a,8 a,8 a,8 a,8 a,8 a,8 a,8\"\n",
    "voice = abjad.Voice(string, name=\"Bass\")\n",
    "staff = abjad.Staff([voice], name=\"Bass\")\n",
    "score = abjad.Score([staff], name=\"Score\")\n",
    "\n",
    "abjad.show(score)"
   ]
  },
  {
   "cell_type": "code",
   "execution_count": 34,
   "id": "f5607a99-bcbd-409e-a7bb-bb8a3264de41",
   "metadata": {},
   "outputs": [
    {
     "ename": "TypeError",
     "evalue": "attach() missing 1 required positional argument: 'target'",
     "output_type": "error",
     "traceback": [
      "\u001b[0;31m---------------------------------------------------------------------------\u001b[0m",
      "\u001b[0;31mTypeError\u001b[0m                                 Traceback (most recent call last)",
      "\u001b[0;32m<ipython-input-34-d599a9a9e8f0>\u001b[0m in \u001b[0;36m<module>\u001b[0;34m\u001b[0m\n\u001b[1;32m      5\u001b[0m \u001b[0mstaff\u001b[0m \u001b[0;34m=\u001b[0m \u001b[0mabjad\u001b[0m\u001b[0;34m.\u001b[0m\u001b[0mStaff\u001b[0m\u001b[0;34m(\u001b[0m\u001b[0;34m[\u001b[0m\u001b[0mvoice\u001b[0m\u001b[0;34m]\u001b[0m\u001b[0;34m,\u001b[0m \u001b[0mname\u001b[0m\u001b[0;34m=\u001b[0m\u001b[0;34m\"RH_Staff\"\u001b[0m\u001b[0;34m)\u001b[0m\u001b[0;34m\u001b[0m\u001b[0;34m\u001b[0m\u001b[0m\n\u001b[1;32m      6\u001b[0m \u001b[0mscore\u001b[0m \u001b[0;34m=\u001b[0m \u001b[0mabjad\u001b[0m\u001b[0;34m.\u001b[0m\u001b[0mScore\u001b[0m\u001b[0;34m(\u001b[0m\u001b[0;34m[\u001b[0m\u001b[0mstaff\u001b[0m\u001b[0;34m]\u001b[0m\u001b[0;34m,\u001b[0m \u001b[0mname\u001b[0m\u001b[0;34m=\u001b[0m\u001b[0;34m\"Score\"\u001b[0m\u001b[0;34m)\u001b[0m\u001b[0;34m\u001b[0m\u001b[0;34m\u001b[0m\u001b[0m\n\u001b[0;32m----> 7\u001b[0;31m \u001b[0mabjad\u001b[0m\u001b[0;34m.\u001b[0m\u001b[0mattach\u001b[0m\u001b[0;34m(\u001b[0m\u001b[0mabjad\u001b[0m\u001b[0;34m.\u001b[0m\u001b[0mClef\u001b[0m\u001b[0;34m(\u001b[0m\u001b[0;34m'bass'\u001b[0m\u001b[0;34m)\u001b[0m\u001b[0;34m)\u001b[0m\u001b[0;34m\u001b[0m\u001b[0;34m\u001b[0m\u001b[0m\n\u001b[0m\u001b[1;32m      8\u001b[0m \u001b[0mabjad\u001b[0m\u001b[0;34m.\u001b[0m\u001b[0mshow\u001b[0m\u001b[0;34m(\u001b[0m\u001b[0mscore\u001b[0m\u001b[0;34m)\u001b[0m\u001b[0;34m\u001b[0m\u001b[0;34m\u001b[0m\u001b[0m\n",
      "\u001b[0;31mTypeError\u001b[0m: attach() missing 1 required positional argument: 'target'"
     ]
    }
   ],
   "source": [
    "abjad.Clef(\"bass\")\n",
    "string = \"\\clef bass d'8 f' a' d'' f'' gs'4 r8 e' gs' b' e'' gs'' a'4\"\n",
    "\n",
    "voice = abjad.Voice(string, name=\"RH_Voice\")\n",
    "staff = abjad.Staff([voice], name=\"RH_Staff\")\n",
    "score = abjad.Score([staff], name=\"Score\")\n",
    "abjad.attach(abjad.Clef('bass'))\n",
    "abjad.show(score)"
   ]
  },
  {
   "cell_type": "code",
   "execution_count": null,
   "id": "57f79d5f-aaa2-41de-aef3-4a709ccdde63",
   "metadata": {},
   "outputs": [],
   "source": []
  }
 ],
 "metadata": {
  "kernelspec": {
   "display_name": "Python [conda env:music]",
   "language": "python",
   "name": "conda-env-music-py"
  },
  "language_info": {
   "codemirror_mode": {
    "name": "ipython",
    "version": 3
   },
   "file_extension": ".py",
   "mimetype": "text/x-python",
   "name": "python",
   "nbconvert_exporter": "python",
   "pygments_lexer": "ipython3",
   "version": "3.9.5"
  }
 },
 "nbformat": 4,
 "nbformat_minor": 5
}
