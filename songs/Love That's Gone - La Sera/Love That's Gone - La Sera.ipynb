{
 "cells": [
  {
   "cell_type": "markdown",
   "id": "de2a28cd-0d84-449a-b63d-403c86549263",
   "metadata": {},
   "source": [
    "# Love That's Gone - La Sera"
   ]
  },
  {
   "cell_type": "code",
   "execution_count": 1,
   "id": "855f3036-1ed4-460d-8cd7-2d0f2133c7a4",
   "metadata": {},
   "outputs": [],
   "source": [
    "import sys\n",
    "sys.path.append('../../')\n",
    "from helpers.lily_helpers import *"
   ]
  },
  {
   "cell_type": "code",
   "execution_count": 2,
   "id": "2ff1197f-72a8-4f49-9964-a9b4c2ff5e60",
   "metadata": {},
   "outputs": [],
   "source": [
    "title = \"Love That's Gone\"\n",
    "artist = \"La Sera\"\n",
    "key_tonic = \"a\"\n",
    "key_mode = \"\\major\"\n",
    "time_signature = \"4/4\"\n",
    "tempo = \"4=69\""
   ]
  },
  {
   "cell_type": "code",
   "execution_count": 3,
   "id": "0a2100bd-3f11-423d-a028-b56ae0457d67",
   "metadata": {},
   "outputs": [],
   "source": [
    "####### INTRO #######\n",
    "chords_intro = f\"a1\"\n",
    "bass_intro = f\"a,8 a,8 a,8 a,8 a,8 a,8 a,8 a,8\"\n",
    "\n",
    "####### VERSE 1 #######\n",
    "chords_verse_1 = combine_bars(\n",
    "    f\"a2 d4 fs4:m\",\n",
    "    f\"e2 e4 d4\"\n",
    ")\n",
    "bass_verse_1 = combine_bars(\n",
    "    f\"a,8 a,8 a,8 a,8 d8 d8 {legato_slide('fs,8')} fs,8\",\n",
    "    f\"e,8 e,8 e,8 e,8 gs,8 fs,8 gs,8 b,8\"\n",
    ")\n",
    "\n",
    "####### VERSE 2 #######\n",
    "chords_verse_2 = combine_bars(\n",
    "    f\"cs2:m d2\",\n",
    "    f\"cs2:m d2\",\n",
    "    f\"fs2:m e2\"\n",
    ")\n",
    "bass_verse_2 = combine_bars(\n",
    "    f\"cs8 cs8 cs8 cs8 {legato_slide('b,8')} b,8 b,8 b,8\",\n",
    "    f\"{legato_slide('cs8')} cs8 cs8 cs8 {legato_slide('b,8')} b,8 b,8 a,8\",\n",
    "    f\"fs,8 fs,8 fs,8 fs,8 e,8 e,8 e,8 e,8\"\n",
    ")\n",
    "\n",
    "####### OUTRO #######\n",
    "chords_outro = f\"a1\"\n",
    "bass_outro = f\"a,1\""
   ]
  },
  {
   "cell_type": "code",
   "execution_count": 4,
   "id": "6136758f-9446-445e-ad96-383ccfecd918",
   "metadata": {},
   "outputs": [],
   "source": [
    "chords = join_parts(\n",
    "    (chords_intro, 8),\n",
    "    (chords_verse_1, 4),\n",
    "     chords_verse_2,\n",
    "    (chords_verse_1, 2),\n",
    "     chords_verse_2,\n",
    "    (chords_verse_1, 2),\n",
    "     chords_verse_2,\n",
    "    (chords_verse_1, 2),\n",
    "     chords_verse_2,\n",
    "    (chords_verse_1, 2),\n",
    "     chords_verse_2,\n",
    "    (chords_verse_1, 2),\n",
    "     chords_verse_2,\n",
    "    (chords_verse_1, 2),\n",
    "     chords_outro\n",
    ")\n",
    "\n",
    "bass = join_parts(\n",
    "    (bass_intro, 8),\n",
    "    (bass_verse_1, 4),\n",
    "     bass_verse_2,\n",
    "    (bass_verse_1, 2),\n",
    "     bass_verse_2,\n",
    "    (bass_verse_1, 2),\n",
    "     bass_verse_2,\n",
    "    (bass_verse_1, 2),\n",
    "     bass_verse_2,\n",
    "    (bass_verse_1, 2),\n",
    "     bass_verse_2,\n",
    "    (bass_verse_1, 2),\n",
    "     bass_verse_2,\n",
    "    (bass_verse_1, 2),\n",
    "     bass_outro\n",
    ")"
   ]
  },
  {
   "cell_type": "code",
   "execution_count": 5,
   "id": "bc0c5cfd-3888-4b25-b892-9940e20ff35b",
   "metadata": {},
   "outputs": [],
   "source": [
    "create_lily(title, artist, key_tonic, key_mode, time_signature, tempo, chords, bass)"
   ]
  },
  {
   "cell_type": "code",
   "execution_count": null,
   "id": "8308cc5c-14f8-4511-802b-b5eb68046abe",
   "metadata": {},
   "outputs": [],
   "source": []
  }
 ],
 "metadata": {
  "kernelspec": {
   "display_name": "Python [conda env:music]",
   "language": "python",
   "name": "conda-env-music-py"
  },
  "language_info": {
   "codemirror_mode": {
    "name": "ipython",
    "version": 3
   },
   "file_extension": ".py",
   "mimetype": "text/x-python",
   "name": "python",
   "nbconvert_exporter": "python",
   "pygments_lexer": "ipython3",
   "version": "3.9.5"
  }
 },
 "nbformat": 4,
 "nbformat_minor": 5
}
