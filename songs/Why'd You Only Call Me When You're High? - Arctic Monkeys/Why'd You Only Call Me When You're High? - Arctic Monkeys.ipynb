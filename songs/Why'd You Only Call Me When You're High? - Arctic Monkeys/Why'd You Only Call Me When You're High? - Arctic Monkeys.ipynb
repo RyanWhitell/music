{
 "cells": [
  {
   "cell_type": "markdown",
   "id": "de2a28cd-0d84-449a-b63d-403c86549263",
   "metadata": {},
   "source": [
    "# Why'd You Only Call Me When You're High? - Arctic Monkeys"
   ]
  },
  {
   "cell_type": "code",
   "execution_count": 1,
   "id": "855f3036-1ed4-460d-8cd7-2d0f2133c7a4",
   "metadata": {},
   "outputs": [],
   "source": [
    "import sys\n",
    "sys.path.append('../../')\n",
    "from helpers.lily_helpers import *"
   ]
  },
  {
   "cell_type": "code",
   "execution_count": 2,
   "id": "2ff1197f-72a8-4f49-9964-a9b4c2ff5e60",
   "metadata": {},
   "outputs": [],
   "source": [
    "title = \"Why'd You Only Call Me When You're High?\"\n",
    "artist = \"Arctic Monkeys\"\n",
    "key_tonic = \"d\"\n",
    "key_mode = \"\\major\"\n",
    "time_signature = \"4/4\"\n",
    "tempo = \"4=92\""
   ]
  },
  {
   "cell_type": "code",
   "execution_count": 11,
   "id": "0a2100bd-3f11-423d-a028-b56ae0457d67",
   "metadata": {},
   "outputs": [],
   "source": [
    "####### VERSE 1 #######\n",
    "# normal\n",
    "bass_verse_1 = combine_bars(\n",
    "    f\"fs,,4 r8 {staccato('cs,8')} d,4 d,4\",\n",
    "    f\"b,,4 r8 {staccato('cs,8')} b,,4 e,,4\"\n",
    ")\n",
    "\n",
    "# double fs\n",
    "bass_verse_1_alt_1 = combine_bars(\n",
    "    f\"fs,,4 r8 {staccato('cs,8')} d,4 d,4\",\n",
    "    f\"b,,4 r8 {staccato('cs,8')} b,,4 {staccato('e,,8')} {staccato('fs,,8')}\"\n",
    ")\n",
    "\n",
    "# rest\n",
    "bass_verse_1_alt_2 = combine_bars(\n",
    "    f\"fs,,4 r8 {staccato('cs,8')} d,4 r4\",\n",
    "    f\"b,,4 r8 {staccato('cs,8')} b,,4 e,,4\"\n",
    ")\n",
    "\n",
    "# e instead of cs\n",
    "bass_verse_1_alt_3 = combine_bars(\n",
    "    f\"fs,,4 r8 {staccato('e,8')} d,4 d,4\",\n",
    "    f\"b,,4 r8 {staccato('cs,8')} b,,4 e,,4\"\n",
    ")\n",
    "\n",
    "# first transition\n",
    "bass_transition_1 = f\"b,,4 r8 {staccato('cs,8')} b,,4 b,,4\";\n",
    "\n",
    "\n",
    "bass_verse_2 = combine_bars(\n",
    "    f\"b,,4. {staccato('cs,8')} d,4 r8 {staccato('e,8')}\",\n",
    "    f\"fs,,8 fs,,8 fs,,8 e,,8 fs,,8 gs,,8 a,,8 cs,8\"\n",
    ")\n"
   ]
  },
  {
   "cell_type": "code",
   "execution_count": 12,
   "id": "6136758f-9446-445e-ad96-383ccfecd918",
   "metadata": {},
   "outputs": [],
   "source": [
    "chords = join_chords(\n",
    "    (\"\", 11)\n",
    ")\n",
    "\n",
    "bass = join_bass(\n",
    "    (bass_verse_1, 5),\n",
    "    bass_verse_1_alt_1,\n",
    "    bass_verse_1,\n",
    "    bass_verse_1,\n",
    "    bass_verse_1_alt_2,\n",
    "    (bass_verse_1, 5),\n",
    "    (combine_bars(bass_verse_1_alt_3, bass_verse_1), 2),\n",
    "    bass_transition_1,\n",
    "    (bass_verse_2, 3)\n",
    ")"
   ]
  },
  {
   "cell_type": "code",
   "execution_count": 13,
   "id": "bc0c5cfd-3888-4b25-b892-9940e20ff35b",
   "metadata": {},
   "outputs": [],
   "source": [
    "create_lily(title, artist, key_tonic, key_mode, time_signature, tempo, \"\", bass)"
   ]
  },
  {
   "cell_type": "code",
   "execution_count": 53,
   "id": "85270d7c-bb88-429b-a2c1-6743cb85d679",
   "metadata": {},
   "outputs": [
    {
     "data": {
      "text/plain": [
       "1.0"
      ]
     },
     "execution_count": 53,
     "metadata": {},
     "output_type": "execute_result"
    }
   ],
   "source": [
    "(1/4)+(1/4/2) +(1/8) +(1/4) +(1/8) +(1/8)"
   ]
  },
  {
   "cell_type": "code",
   "execution_count": null,
   "id": "574c6352-9f2c-406a-8466-6cfa2e9a0aca",
   "metadata": {},
   "outputs": [],
   "source": []
  }
 ],
 "metadata": {
  "kernelspec": {
   "display_name": "Python [conda env:music]",
   "language": "python",
   "name": "conda-env-music-py"
  },
  "language_info": {
   "codemirror_mode": {
    "name": "ipython",
    "version": 3
   },
   "file_extension": ".py",
   "mimetype": "text/x-python",
   "name": "python",
   "nbconvert_exporter": "python",
   "pygments_lexer": "ipython3",
   "version": "3.9.5"
  }
 },
 "nbformat": 4,
 "nbformat_minor": 5
}
