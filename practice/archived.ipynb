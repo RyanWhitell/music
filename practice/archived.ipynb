{
 "cells": [
  {
   "cell_type": "markdown",
   "id": "618cf7d9-8607-4c58-ba92-5dd640e6cb81",
   "metadata": {},
   "source": [
    "# Archived Practice Routines"
   ]
  },
  {
   "cell_type": "code",
   "execution_count": null,
   "id": "7ac75eab-2404-445b-b1ca-9fde30040cc3",
   "metadata": {},
   "outputs": [],
   "source": []
  }
 ],
 "metadata": {
  "kernelspec": {
   "display_name": "Python [conda env:music]",
   "language": "python",
   "name": "conda-env-music-py"
  },
  "language_info": {
   "codemirror_mode": {
    "name": "ipython",
    "version": 3
   },
   "file_extension": ".py",
   "mimetype": "text/x-python",
   "name": "python",
   "nbconvert_exporter": "python",
   "pygments_lexer": "ipython3",
   "version": "3.9.5"
  }
 },
 "nbformat": 4,
 "nbformat_minor": 5
}
