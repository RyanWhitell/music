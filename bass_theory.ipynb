{
 "cells": [
  {
   "cell_type": "markdown",
   "id": "9feb1751-e72f-4037-bbd4-a6e2412a9e35",
   "metadata": {},
   "source": [
    "# Bass Theory"
   ]
  },
  {
   "cell_type": "code",
   "execution_count": 1,
   "id": "30a3b894-7d0a-427e-beb3-05fc4a978307",
   "metadata": {},
   "outputs": [],
   "source": [
    "import abjad\n",
    "\n",
    "%load_ext abjadext.ipython"
   ]
  },
  {
   "cell_type": "markdown",
   "id": "2681b973-c165-4c54-9b78-63737e75f481",
   "metadata": {},
   "source": [
    "## Notes on a Bass\n",
    "![.](images/frets_and_bass_clef.png)"
   ]
  },
  {
   "cell_type": "code",
   "execution_count": null,
   "id": "29e98969-303d-48a6-ae96-7377a4e6166c",
   "metadata": {},
   "outputs": [],
   "source": []
  }
 ],
 "metadata": {
  "kernelspec": {
   "display_name": "Python [conda env:music]",
   "language": "python",
   "name": "conda-env-music-py"
  },
  "language_info": {
   "codemirror_mode": {
    "name": "ipython",
    "version": 3
   },
   "file_extension": ".py",
   "mimetype": "text/x-python",
   "name": "python",
   "nbconvert_exporter": "python",
   "pygments_lexer": "ipython3",
   "version": "3.9.5"
  }
 },
 "nbformat": 4,
 "nbformat_minor": 5
}
