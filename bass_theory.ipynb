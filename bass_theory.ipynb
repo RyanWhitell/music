{
 "cells": [
  {
   "cell_type": "markdown",
   "id": "9feb1751-e72f-4037-bbd4-a6e2412a9e35",
   "metadata": {},
   "source": [
    "# Bass Theory"
   ]
  },
  {
   "cell_type": "code",
   "execution_count": 1,
   "id": "30a3b894-7d0a-427e-beb3-05fc4a978307",
   "metadata": {},
   "outputs": [],
   "source": [
    "import abjad\n",
    "\n",
    "%load_ext abjadext.ipython"
   ]
  },
  {
   "cell_type": "markdown",
   "id": "2681b973-c165-4c54-9b78-63737e75f481",
   "metadata": {},
   "source": [
    "# Notes on a Bass\n",
    "![.](images/frets_and_bass_clef.png)"
   ]
  },
  {
   "cell_type": "markdown",
   "id": "53d70699-24d1-42bf-bf96-c18d20b8a67c",
   "metadata": {},
   "source": [
    "# The Bassists Role\n",
    "Bass provides the _rhythmic_ foundation.\n",
    "Bass provides the _harmonic_ foundation.\n",
    "Bass can sometimes be _melodic_."
   ]
  },
  {
   "cell_type": "markdown",
   "id": "a6c46356-be94-472a-b979-ea683ae27af8",
   "metadata": {},
   "source": [
    "### Rhythm\n",
    "A large part of playing the bass revolves around rhythm. The rhythmic foundation refers to the consistent pulse of the music. A skilled bassist supports the group by providing a good-feeling, steady pulse. Most music that is well received has a steady rhythm, or beat, to it."
   ]
  },
  {
   "cell_type": "markdown",
   "id": "4bed6ebb-503c-45dc-8b8f-31852f6f78da",
   "metadata": {},
   "source": [
    "### Bass and Lead\n",
    "As far as the note side of music goes, chords, and the notes they contain (chord tones), are the primary thing bassists need to understand and study. A bassists main role is to support the lead (guitar, piano, etc...) by playing harmonies under the chords. Mostly this means playing the root note of the chords in the chord progression, emphasizing individual notes of the chord."
   ]
  },
  {
   "cell_type": "markdown",
   "id": "db2e6ef2-0743-412c-adfc-f2c89c0e1500",
   "metadata": {},
   "source": [
    "### Bass and Drums"
   ]
  },
  {
   "cell_type": "markdown",
   "id": "5c3519d8-2302-4c19-857e-4d2f814b25de",
   "metadata": {},
   "source": [
    "### Arpegios\n",
    "An arpeggio is the notes of a chord played one after another instead of at the same time. Playing and practicing arpeggios on bass will be a major part of learning and understanding chords. "
   ]
  },
  {
   "cell_type": "markdown",
   "id": "d8fe6ad3-09f8-4a44-826e-6d3eefd3bb7a",
   "metadata": {},
   "source": [
    "### Melody\n",
    "Traditionally, bass players don’t play the main melodies of songs. As bass players, we support and interact with the main melody of a song by providing rhythm and harmony underneath it. When we hear several notes played at the same time, we hear them all relative to the lowest sounding pitch — the bass note.\n",
    "\n",
    "A very common type of melody you'll find bassists playing is the **riff**. A riff is a repeated melody often played at the same time as other instruments. Another type of melody is an instrumental **solo**."
   ]
  },
  {
   "cell_type": "markdown",
   "id": "c13b78ec-68d2-43d0-9649-d3b71ebc7dd5",
   "metadata": {},
   "source": [
    "# Common Bass Patterns"
   ]
  },
  {
   "cell_type": "markdown",
   "id": "a08718a8-393e-4b6a-95cc-d9c6b466d6dc",
   "metadata": {},
   "source": [
    "### Chord Root\n",
    "A root note is the main note on which a chord is built. Bassists play root notes of chords more than any other chord tone. Each chord is always named with its root followed by its **chord type**, or **chord quality**."
   ]
  },
  {
   "cell_type": "markdown",
   "id": "4f87933b-ec6d-47de-a648-329d357f88a1",
   "metadata": {},
   "source": [
    "### Octaves\n",
    "From any one note, the higher/lower octave can be played:\n",
    "* 12 frets higher/lower\n",
    "* 1 string higher/lower and 7 frets higher/lower\n",
    "* 2 strings higher/lower and 2 frets higher/lower\n",
    "\n",
    "Octaves can add a bit of texture without complexity. Octaves are also common for slap bass lines."
   ]
  },
  {
   "cell_type": "markdown",
   "id": "a7763599-2867-4b19-9c8d-8600c90db465",
   "metadata": {},
   "source": [
    "### Root + Fifths\n",
    "Most chords have a fifth. The pattern on the bass is:\n",
    "* The fifth above any root note is always on the next higher string, two frets higher\n",
    "* The fifth below any root note is always on the next lower string, on the same fret.\n",
    "\n",
    "Playing these notes under a chord almost always sounds good. Adding the octaves of the roots and fifths adds more texture."
   ]
  },
  {
   "cell_type": "markdown",
   "id": "c65fe851-ec8e-404f-b6b5-82997395af93",
   "metadata": {},
   "source": [
    "### Root + Fifths + Flat Sevenths\n",
    "The flat seventh can be applied to chords that have it, and some that don't. The pattern on the bass is:\n",
    "* 2 Frets lower\n",
    "* 2 Strings higher"
   ]
  },
  {
   "cell_type": "markdown",
   "id": "55162656-2295-4420-b163-59d53b178929",
   "metadata": {},
   "source": [
    "### Root + Fifths + Sixths\n",
    "The sixth can be applied to most major chords, and some minor. The sixth can add some melody. The pattern on the bass is:\n",
    "* 2 notes above a chord's 5th\n",
    "* 3 notes below any root note."
   ]
  },
  {
   "cell_type": "markdown",
   "id": "a93049c9-bd2f-4ad6-b346-a911964a3581",
   "metadata": {},
   "source": [
    "### Chromatic Approach Notes\n",
    "Another important function of a bassline is to connect one chord to the next. Many good basslines propel a song through its **chord progression**.\n",
    "\n",
    "**Chromatic approach notes** are ones that come from one semitone above or below a destination note. Many times when two main notes are separated by one note you can use the note in-between to connect them. In this instance we'd call the chromatic note a **passing tone**.\n",
    "\n",
    "The chromatic approach note is usually a very weak, unstable note to play. If you emphasize it in the wrong place rhythmically, you can really upset things. Most often these chromatic notes fall in weak places like in between the beats, or on beats 2 & 4. Rarely do they fall on beats 1 & 3 where your ear expects to hear strong supportive notes like the root and fifth instead. "
   ]
  },
  {
   "cell_type": "markdown",
   "id": "8ed0c6ba-8cdc-4f33-a478-95604981edbd",
   "metadata": {},
   "source": [
    "## Practice\n",
    "\n",
    "<span style=\"color:blue\"><a href=\"https://www.studybass.com/lessons/common-bass-patterns/octaves/exercises/\"><font size=\"+1\">Octaves</font></a></span>\n",
    "\n",
    "<span style=\"color:blue\"><a href=\"https://www.studybass.com/lessons/common-bass-patterns/roots-and-fifths/exercises/\"><font size=\"+1\">Roots and Fifths</font></a></span>\n",
    "\n",
    "<span style=\"color:blue\"><a href=\"https://www.studybass.com/lessons/common-bass-patterns/root-fifth-flat-seventh/exercises/\"><font size=\"+1\">Roots, Fifths, And Flat Sevenths</font></a></span>\n",
    "\n",
    "<span style=\"color:blue\"><a href=\"https://www.studybass.com/lessons/common-bass-patterns/root-fifth-sixth/exercises/\"><font size=\"+1\">Roots, Fifths, And Sixths</font></a></span>\n",
    "\n",
    "<span style=\"color:blue\"><a href=\"https://www.studybass.com/lessons/common-bass-patterns/chromatic-approach-notes/exercises/\"><font size=\"+1\">Chromatic P</font></a></span>\n",
    "\n",
    "<span style=\"color:blue\"><a href=\"https://www.studybass.com/lessons/common-bass-patterns/common-patterns-summary/exercises/\"><font size=\"+1\">Summary</font></a></span>"
   ]
  },
  {
   "cell_type": "markdown",
   "id": "621d5b58-9a3f-418c-8ae6-7592a4a98eeb",
   "metadata": {},
   "source": [
    "# Rhythm\n",
    "All rhythm is felt in _relation_ to the beat. Play with a metronome!!\n",
    "\n",
    "### Practice\n",
    "\n",
    "<span style=\"color:blue\"><a href=\"https://www.studybass.com/lessons/rhythm/keeping-the-beat/exercises/\"><font size=\"+1\">Clap to the Metronome</font></a></span>\n",
    "\n",
    "<span style=\"color:blue\"><a href=\"https://www.studybass.com/lessons/rhythm/playing-a-steady-pulse/exercises/\"><font size=\"+1\">Playing a Steady Pulse</font></a></span>"
   ]
  },
  {
   "cell_type": "markdown",
   "id": "a44601df-4eae-47d6-a947-0957a18985bc",
   "metadata": {},
   "source": [
    "# Intervals\n"
   ]
  },
  {
   "cell_type": "markdown",
   "id": "1908c31d-c2d5-47b1-b013-88abeb0d8f36",
   "metadata": {},
   "source": [
    "### Practice\n",
    "\n",
    "<span style=\"color:blue\"><a href=\"\"><font size=\"+1\"></font></a></span>\n",
    "\n",
    "<span style=\"color:blue\"><a href=\"\"><font size=\"+1\"></font></a></span>"
   ]
  },
  {
   "cell_type": "code",
   "execution_count": null,
   "id": "89c98af6-af2f-4aad-8792-aca583285f67",
   "metadata": {},
   "outputs": [],
   "source": []
  }
 ],
 "metadata": {
  "kernelspec": {
   "display_name": "Python [conda env:music]",
   "language": "python",
   "name": "conda-env-music-py"
  },
  "language_info": {
   "codemirror_mode": {
    "name": "ipython",
    "version": 3
   },
   "file_extension": ".py",
   "mimetype": "text/x-python",
   "name": "python",
   "nbconvert_exporter": "python",
   "pygments_lexer": "ipython3",
   "version": "3.9.5"
  }
 },
 "nbformat": 4,
 "nbformat_minor": 5
}
